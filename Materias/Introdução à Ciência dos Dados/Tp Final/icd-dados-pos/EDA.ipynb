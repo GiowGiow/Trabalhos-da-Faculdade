{
 "cells": [
  {
   "cell_type": "markdown",
   "metadata": {},
   "source": [
    "# Análise Exploratória"
   ]
  },
  {
   "cell_type": "code",
   "execution_count": null,
   "metadata": {},
   "outputs": [],
   "source": [
    "import numpy as np\n",
    "import pandas as pd\n",
    "import matplotlib.pyplot as plt\n",
    "import seaborn as sns\n",
    "%matplotlib inline\n",
    "\n",
    "plt.rcParams['figure.figsize']  = (10, 8)\n",
    "plt.rcParams['axes.labelsize']  = 12\n",
    "plt.rcParams['axes.titlesize']  = 16\n",
    "plt.rcParams['legend.fontsize'] = 12\n",
    "plt.rcParams['xtick.labelsize'] = 12\n",
    "plt.rcParams['ytick.labelsize'] = 12\n",
    "plt.rcParams['lines.linewidth'] = 10.5"
   ]
  },
  {
   "cell_type": "code",
   "execution_count": null,
   "metadata": {},
   "outputs": [],
   "source": [
    "plt.ion()\n",
    "\n",
    "plt.style.use('seaborn-colorblind')\n",
    "plt.rcParams['figure.figsize']  = (12, 8)\n",
    "plt.rcParams['patch.edgecolor'] = 'k'"
   ]
  },
  {
   "cell_type": "code",
   "execution_count": null,
   "metadata": {},
   "outputs": [],
   "source": [
    "# Importando dataset\n",
    "dados = pd.read_excel(\"./datasets/dados_posGraduacao_UFMG.xlsx\")"
   ]
  },
  {
   "cell_type": "code",
   "execution_count": null,
   "metadata": {},
   "outputs": [],
   "source": [
    "# Removendo entradas inferiores a 2008 e menores que 2018\n",
    "dados08_17 = dados.query(\"AnoBase >= 2008\")\n",
    "dados08_17 = dados08_17.query(\"AnoBase < 2018\")\n",
    "\n",
    "# Removendo cursos sem nome\n",
    "dados08_17 =  dados08_17[pd.notnull(dados08_17['NomePrograma'])]\n",
    "\n",
    "print(\"Ano Max\", dados08_17['AnoBase'].max(), \"Ano Min:\", dados08_17['AnoBase'].min())\n",
    "display(dados08_17.head(5))"
   ]
  },
  {
   "cell_type": "code",
   "execution_count": null,
   "metadata": {},
   "outputs": [],
   "source": [
    "# Removendo entradas inferiores a 2008 e menores que 2018\n",
    "dados08_17 = dados.query(\"AnoBase >= 2008\")\n",
    "dados08_17 = dados08_17.query(\"AnoBase < 2018\")\n",
    "\n",
    "# Removendo cursos sem nome\n",
    "dados08_17 =  dados08_17[pd.notnull(dados08_17['NomePrograma'])]\n",
    "\n",
    "print(\"Ano Max\", dados08_17['AnoBase'].max(), \"Ano Min:\", dados08_17['AnoBase'].min())\n",
    "display(dados08_17.head(5))"
   ]
  },
  {
   "cell_type": "code",
   "execution_count": null,
   "metadata": {},
   "outputs": [],
   "source": [
    "# Consertando tipo dos dados\n",
    "# Algumas bolsas estao como string ou -\n",
    "def series_to_num(df):\n",
    "    # copio o df para n ter problemas com pandas\n",
    "    df_to_return = df.copy()\n",
    "    df_to_return = df_to_return.replace('-', np.nan)\n",
    "    df_to_return = pd.to_numeric(df_to_return)\n",
    "    return df_to_return\n",
    "\n",
    "# Tratando para as colunas Bolsas e Notas da Capes:\n",
    "dados08_17['BolsasDoutorado'] = series_to_num(dados08_17['BolsasDoutorado'])\n",
    "dados08_17['BolsasMestrado'] = series_to_num(dados08_17['BolsasMestrado'])\n",
    "dados08_17['NotaCapesDoutorado'] = series_to_num(dados08_17['NotaCapesDoutorado'])\n",
    "dados08_17['NotaCapesMestrado'] = series_to_num(dados08_17['NotaCapesMestrado'])\n",
    "\n",
    "dados08_17 =  dados08_17[pd.notnull(dados08_17['NotaCapesMestrado'])]\n",
    "dados08_17 = dados08_17[pd.notnull(dados08_17['NotaCapesDoutorado'])]\n",
    "\n",
    "dados08_17['NotaCapesMestrado'] = dados08_17[\"NotaCapesMestrado\"].astype(float)\n",
    "dados08_17['NotaCapesDoutorado'] =dados08_17[\"NotaCapesDoutorado\"].astype(float)\n",
    "dados08_17.describe()"
   ]
  },
  {
   "cell_type": "markdown",
   "metadata": {},
   "source": [
    "## Gráficos: Bolsas"
   ]
  },
  {
   "cell_type": "markdown",
   "metadata": {},
   "source": [
    "#### Bolsas por ano"
   ]
  },
  {
   "cell_type": "code",
   "execution_count": null,
   "metadata": {},
   "outputs": [],
   "source": [
    "bolsasAno = dados08_17.groupby(\"AnoBase\",as_index=False).agg({\n",
    "    \"BolsasMestrado\": 'sum', \n",
    "    \"BolsasDoutorado\": 'sum',\n",
    "})\n",
    "\n",
    "plotResult = bolsasAno.plot.bar(x=\"AnoBase\", edgecolor='k').set(\n",
    "    xlabel=\"Anos\",\n",
    "    ylabel=\"Número de bolsas\",\n",
    "    title=\"Quantidade de bolsas por ano\",\n",
    "    #edgecolor='k'\n",
    ")"
   ]
  },
  {
   "cell_type": "markdown",
   "metadata": {},
   "source": [
    "#### Bolsas pelo número de teses"
   ]
  },
  {
   "cell_type": "code",
   "execution_count": null,
   "metadata": {},
   "outputs": [],
   "source": [
    "dados08_17.plot.scatter(x=\"NumTeses\", y=\"BolsasDoutorado\", edgecolor='k').set(\n",
    "    xlabel=\"Número de teses\", \n",
    "    ylabel=\"Número de bolsas\", \n",
    "    title=\"Número de teses pelo numero de bolsas\"\n",
    ")"
   ]
  },
  {
   "cell_type": "markdown",
   "metadata": {},
   "source": [
    "#### Bolsas pelo número de dissertações"
   ]
  },
  {
   "cell_type": "code",
   "execution_count": null,
   "metadata": {},
   "outputs": [],
   "source": [
    "dados08_17.plot.scatter(x=\"Dissertacao\", y=\"BolsasMestrado\", edgecolor='k').set(\n",
    "    xlabel=\"Numero de Dissertacões\", \n",
    "    ylabel=\"Número de bolsas\", \n",
    "    title=\"Número de Dissertacoes por Numero ano de bolsas\",\n",
    ")"
   ]
  },
  {
   "cell_type": "markdown",
   "metadata": {},
   "source": [
    "#### Bolsas de doutorado pelo nível capes"
   ]
  },
  {
   "cell_type": "code",
   "execution_count": null,
   "metadata": {},
   "outputs": [],
   "source": [
    "dados08_17.plot.scatter(x=\"NotaCapesDoutorado\", y=\"BolsasDoutorado\", edgecolor='k').set(\n",
    "    xlabel=\"Nota Capes\", \n",
    "    ylabel=\"Número de bolsas\", \n",
    "    title=\" Bolsas de doutorado por nota Capes\"\n",
    ")"
   ]
  },
  {
   "cell_type": "markdown",
   "metadata": {},
   "source": [
    "#### Bolsas de mestrado pelo nível capes"
   ]
  },
  {
   "cell_type": "code",
   "execution_count": null,
   "metadata": {},
   "outputs": [],
   "source": [
    "dados08_17.plot.scatter(x=\"NotaCapesMestrado\", y=\"BolsasMestrado\", edgecolor='k').set(\n",
    "    xlabel=\"Nota Capes\", \n",
    "    ylabel=\"Número de bolsas\", \n",
    "    title=\" Bolsas de mestrado por nota Capes\",\n",
    ")"
   ]
  },
  {
   "cell_type": "markdown",
   "metadata": {},
   "source": [
    "## Gráficos: Producao"
   ]
  },
  {
   "cell_type": "markdown",
   "metadata": {},
   "source": [
    "#### Tipos de producao por ano"
   ]
  },
  {
   "cell_type": "code",
   "execution_count": null,
   "metadata": {},
   "outputs": [],
   "source": [
    "producao = dados08_17.groupby(\"AnoBase\",as_index=False).agg({\n",
    "    \"ProducoesArtisticas\": 'sum',\n",
    "    \"ProducoesBibliograficas\": 'sum',\n",
    "    \"ProducoesTecnicas\": 'sum'\n",
    "})\n",
    "\n",
    "producao.plot.bar(x=\"AnoBase\", edgecolor='k').set(xlabel=\"Anos\", ylabel=\"Produção\", title=\"Produtividade anual\")"
   ]
  },
  {
   "cell_type": "markdown",
   "metadata": {},
   "source": [
    "\n",
    "#### Produção pelo investimento total"
   ]
  },
  {
   "cell_type": "code",
   "execution_count": null,
   "metadata": {},
   "outputs": [],
   "source": [
    "y = (dados08_17[\"ProducoesArtisticas\"] + dados08_17[\"ProducoesBibliograficas\"] + dados08_17[\"ProducoesTecnicas\"])\n",
    "x = (dados08_17[\"ValorAnualBolsaMestrado\"] + dados08_17[\"ValorAnualBolsaDoutorado\"])\n",
    "ano = dados08_17[\"AnoBase\"]\n",
    "\n",
    "data = {\n",
    "    'AnoBase': ano,\n",
    "    'Producao': x,\n",
    "    'Investimento': y\n",
    "}\n",
    "\n",
    "result = pd.DataFrame(data= data)\n",
    "\n",
    "result.plot.scatter(x=\"Producao\", y=\"Investimento\", edgecolor='k').set(\n",
    "    ylabel=\"Producao anual\", \n",
    "    xlabel=\"Investimento anual\", \n",
    "    title=\"Produção pelo investimento total\",\n",
    ")"
   ]
  },
  {
   "cell_type": "markdown",
   "metadata": {},
   "source": [
    "\n",
    "#### Produção pelo investimento total"
   ]
  },
  {
   "cell_type": "code",
   "execution_count": null,
   "metadata": {},
   "outputs": [],
   "source": [
    "x = (dados08_17[\"ProducoesArtisticas\"] + dados08_17[\"ProducoesBibliograficas\"] + dados08_17[\"ProducoesTecnicas\"])/3\n",
    "y = (dados08_17[\"NotaCapesMestrado\"] + dados08_17[\"NotaCapesMestrado\"])/2\n",
    "ano = dados08_17[\"AnoBase\"]\n",
    "\n",
    "data = {\n",
    "    'AnoBase': ano,\n",
    "    'Producao': y,\n",
    "    'Investimento': x\n",
    "}\n",
    "\n",
    "result = pd.DataFrame(data= data)\n",
    "\n",
    "result.plot.scatter(x=\"Producao\", y=\"Investimento\", edgecolor='k').set(\n",
    "    ylabel=\"Producao anual\", \n",
    "    xlabel=\"Nota Capes\", \n",
    "    title=\"Produção pelo investimento total\",\n",
    ")"
   ]
  }
 ],
 "metadata": {
  "kernelspec": {
   "display_name": "Python 3",
   "language": "python",
   "name": "python3"
  },
  "language_info": {
   "codemirror_mode": {
    "name": "ipython",
    "version": 3
   },
   "file_extension": ".py",
   "mimetype": "text/x-python",
   "name": "python",
   "nbconvert_exporter": "python",
   "pygments_lexer": "ipython3",
   "version": "3.7.1"
  }
 },
 "nbformat": 4,
 "nbformat_minor": 2
}
