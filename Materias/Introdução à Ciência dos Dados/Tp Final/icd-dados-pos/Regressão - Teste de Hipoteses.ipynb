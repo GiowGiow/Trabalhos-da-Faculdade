{
 "cells": [
  {
   "cell_type": "markdown",
   "metadata": {},
   "source": [
    "# Regressão Linear"
   ]
  },
  {
   "cell_type": "code",
   "execution_count": 1,
   "metadata": {},
   "outputs": [],
   "source": [
    "import numpy as np\n",
    "import pandas as pd\n",
    "import matplotlib.pyplot as plt\n",
    "import seaborn as sns\n",
    "from sklearn import linear_model\n",
    "from sklearn.model_selection import train_test_split\n",
    "from sklearn.metrics import mean_squared_error, r2_score\n",
    "from scipy import stats\n",
    "%matplotlib inline\n",
    "\n",
    "plt.rcParams['figure.figsize']  = (16, 8)\n",
    "plt.rcParams['axes.labelsize']  = 10\n",
    "plt.rcParams['axes.titlesize']  = 10\n",
    "plt.rcParams['legend.fontsize'] = 10\n",
    "plt.rcParams['xtick.labelsize'] = 10\n",
    "plt.rcParams['ytick.labelsize'] = 10\n",
    "plt.rcParams['lines.linewidth'] = 4\n",
    "\n",
    "plt.ion()\n",
    "\n",
    "plt.style.use('seaborn-colorblind')\n",
    "plt.rcParams['figure.figsize']  = (12, 8)"
   ]
  },
  {
   "cell_type": "code",
   "execution_count": 2,
   "metadata": {
    "scrolled": true
   },
   "outputs": [],
   "source": [
    "# Importando dataset\n",
    "dados = pd.read_excel(\"./datasets/dados_posGraduacao_UFMG.xlsx\", index_col=0)"
   ]
  },
  {
   "cell_type": "code",
   "execution_count": 3,
   "metadata": {},
   "outputs": [
    {
     "name": "stdout",
     "output_type": "stream",
     "text": [
      "Ano Max 2017.0 Ano Min: 2008.0\n"
     ]
    },
    {
     "data": {
      "text/html": [
       "<div>\n",
       "<style scoped>\n",
       "    .dataframe tbody tr th:only-of-type {\n",
       "        vertical-align: middle;\n",
       "    }\n",
       "\n",
       "    .dataframe tbody tr th {\n",
       "        vertical-align: top;\n",
       "    }\n",
       "\n",
       "    .dataframe thead th {\n",
       "        text-align: right;\n",
       "    }\n",
       "</style>\n",
       "<table border=\"1\" class=\"dataframe\">\n",
       "  <thead>\n",
       "    <tr style=\"text-align: right;\">\n",
       "      <th></th>\n",
       "      <th>Chave</th>\n",
       "      <th>AnoBase</th>\n",
       "      <th>BolsasDoutorado</th>\n",
       "      <th>BolsasMestrado</th>\n",
       "      <th>CodigoPrograma</th>\n",
       "      <th>Dissertacao</th>\n",
       "      <th>NomePrograma</th>\n",
       "      <th>NotaCapesDoutorado</th>\n",
       "      <th>NotaCapesMestrado</th>\n",
       "      <th>ProducoesArtisticas</th>\n",
       "      <th>ProducoesBibliograficas</th>\n",
       "      <th>ProducoesTecnicas</th>\n",
       "      <th>NumTeses</th>\n",
       "      <th>ValorAnualBolsaDoutorado</th>\n",
       "      <th>ValorAnualBolsaMestrado</th>\n",
       "    </tr>\n",
       "  </thead>\n",
       "  <tbody>\n",
       "    <tr>\n",
       "      <th>19</th>\n",
       "      <td>32001010051P42008</td>\n",
       "      <td>2008.0</td>\n",
       "      <td>2.0</td>\n",
       "      <td>9.0</td>\n",
       "      <td>32001010051p4</td>\n",
       "      <td>19.0</td>\n",
       "      <td>artes</td>\n",
       "      <td>5</td>\n",
       "      <td>5</td>\n",
       "      <td>126.0</td>\n",
       "      <td>162.0</td>\n",
       "      <td>237.0</td>\n",
       "      <td>1.0</td>\n",
       "      <td>43200.0</td>\n",
       "      <td>129600.0</td>\n",
       "    </tr>\n",
       "    <tr>\n",
       "      <th>20</th>\n",
       "      <td>32001010049P02008</td>\n",
       "      <td>2008.0</td>\n",
       "      <td>0.0</td>\n",
       "      <td>6.0</td>\n",
       "      <td>32001010049p0</td>\n",
       "      <td>13.0</td>\n",
       "      <td>arquitetura</td>\n",
       "      <td>4</td>\n",
       "      <td>4</td>\n",
       "      <td>10.0</td>\n",
       "      <td>100.0</td>\n",
       "      <td>163.0</td>\n",
       "      <td>0.0</td>\n",
       "      <td>0.0</td>\n",
       "      <td>86400.0</td>\n",
       "    </tr>\n",
       "    <tr>\n",
       "      <th>21</th>\n",
       "      <td>32001010056P62008</td>\n",
       "      <td>2008.0</td>\n",
       "      <td>12.0</td>\n",
       "      <td>16.0</td>\n",
       "      <td>32001010056p6</td>\n",
       "      <td>42.0</td>\n",
       "      <td>estudos literários</td>\n",
       "      <td>7</td>\n",
       "      <td>7</td>\n",
       "      <td>13.0</td>\n",
       "      <td>415.0</td>\n",
       "      <td>447.0</td>\n",
       "      <td>24.0</td>\n",
       "      <td>259200.0</td>\n",
       "      <td>230400.0</td>\n",
       "    </tr>\n",
       "    <tr>\n",
       "      <th>22</th>\n",
       "      <td>32001010051P42009</td>\n",
       "      <td>2009.0</td>\n",
       "      <td>2.0</td>\n",
       "      <td>12.0</td>\n",
       "      <td>32001010051p4</td>\n",
       "      <td>25.0</td>\n",
       "      <td>artes</td>\n",
       "      <td>5</td>\n",
       "      <td>5</td>\n",
       "      <td>164.0</td>\n",
       "      <td>197.0</td>\n",
       "      <td>235.0</td>\n",
       "      <td>0.0</td>\n",
       "      <td>43200.0</td>\n",
       "      <td>172800.0</td>\n",
       "    </tr>\n",
       "    <tr>\n",
       "      <th>23</th>\n",
       "      <td>32001010051P42010</td>\n",
       "      <td>2010.0</td>\n",
       "      <td>4.0</td>\n",
       "      <td>21.0</td>\n",
       "      <td>32001010051p4</td>\n",
       "      <td>31.0</td>\n",
       "      <td>artes</td>\n",
       "      <td>5</td>\n",
       "      <td>5</td>\n",
       "      <td>146.0</td>\n",
       "      <td>125.0</td>\n",
       "      <td>157.0</td>\n",
       "      <td>6.0</td>\n",
       "      <td>86400.0</td>\n",
       "      <td>302400.0</td>\n",
       "    </tr>\n",
       "    <tr>\n",
       "      <th>...</th>\n",
       "      <td>...</td>\n",
       "      <td>...</td>\n",
       "      <td>...</td>\n",
       "      <td>...</td>\n",
       "      <td>...</td>\n",
       "      <td>...</td>\n",
       "      <td>...</td>\n",
       "      <td>...</td>\n",
       "      <td>...</td>\n",
       "      <td>...</td>\n",
       "      <td>...</td>\n",
       "      <td>...</td>\n",
       "      <td>...</td>\n",
       "      <td>...</td>\n",
       "      <td>...</td>\n",
       "    </tr>\n",
       "    <tr>\n",
       "      <th>1899</th>\n",
       "      <td>33002010200P92008</td>\n",
       "      <td>2008.0</td>\n",
       "      <td>1.0</td>\n",
       "      <td>0.0</td>\n",
       "      <td>33002010200p9</td>\n",
       "      <td>0.0</td>\n",
       "      <td>artes cênicas</td>\n",
       "      <td>NaN</td>\n",
       "      <td>NaN</td>\n",
       "      <td>0.0</td>\n",
       "      <td>0.0</td>\n",
       "      <td>0.0</td>\n",
       "      <td>0.0</td>\n",
       "      <td>0.0</td>\n",
       "      <td>0.0</td>\n",
       "    </tr>\n",
       "    <tr>\n",
       "      <th>1900</th>\n",
       "      <td>33002029017P52008</td>\n",
       "      <td>2008.0</td>\n",
       "      <td>1.0</td>\n",
       "      <td>0.0</td>\n",
       "      <td>33002029017p5</td>\n",
       "      <td>0.0</td>\n",
       "      <td>enfermagem fundamental</td>\n",
       "      <td>NaN</td>\n",
       "      <td>NaN</td>\n",
       "      <td>0.0</td>\n",
       "      <td>0.0</td>\n",
       "      <td>0.0</td>\n",
       "      <td>0.0</td>\n",
       "      <td>0.0</td>\n",
       "      <td>0.0</td>\n",
       "    </tr>\n",
       "    <tr>\n",
       "      <th>1901</th>\n",
       "      <td>33010013005P02008</td>\n",
       "      <td>2008.0</td>\n",
       "      <td>1.0</td>\n",
       "      <td>0.0</td>\n",
       "      <td>33010013005p0</td>\n",
       "      <td>0.0</td>\n",
       "      <td>sensoriamento remoto</td>\n",
       "      <td>NaN</td>\n",
       "      <td>NaN</td>\n",
       "      <td>0.0</td>\n",
       "      <td>0.0</td>\n",
       "      <td>0.0</td>\n",
       "      <td>0.0</td>\n",
       "      <td>0.0</td>\n",
       "      <td>0.0</td>\n",
       "    </tr>\n",
       "    <tr>\n",
       "      <th>1902</th>\n",
       "      <td>42001013055P82008</td>\n",
       "      <td>2008.0</td>\n",
       "      <td>1.0</td>\n",
       "      <td>0.0</td>\n",
       "      <td>42001013055p8</td>\n",
       "      <td>0.0</td>\n",
       "      <td>artes visuais</td>\n",
       "      <td>NaN</td>\n",
       "      <td>NaN</td>\n",
       "      <td>0.0</td>\n",
       "      <td>0.0</td>\n",
       "      <td>0.0</td>\n",
       "      <td>0.0</td>\n",
       "      <td>0.0</td>\n",
       "      <td>0.0</td>\n",
       "    </tr>\n",
       "    <tr>\n",
       "      <th>1903</th>\n",
       "      <td>53003012007P72008</td>\n",
       "      <td>2008.0</td>\n",
       "      <td>0.0</td>\n",
       "      <td>1.0</td>\n",
       "      <td>53003012007p7</td>\n",
       "      <td>0.0</td>\n",
       "      <td>educação física</td>\n",
       "      <td>NaN</td>\n",
       "      <td>NaN</td>\n",
       "      <td>0.0</td>\n",
       "      <td>0.0</td>\n",
       "      <td>0.0</td>\n",
       "      <td>0.0</td>\n",
       "      <td>0.0</td>\n",
       "      <td>0.0</td>\n",
       "    </tr>\n",
       "  </tbody>\n",
       "</table>\n",
       "<p>789 rows × 15 columns</p>\n",
       "</div>"
      ],
      "text/plain": [
       "                  Chave  AnoBase  BolsasDoutorado  BolsasMestrado  \\\n",
       "19    32001010051P42008   2008.0              2.0             9.0   \n",
       "20    32001010049P02008   2008.0              0.0             6.0   \n",
       "21    32001010056P62008   2008.0             12.0            16.0   \n",
       "22    32001010051P42009   2009.0              2.0            12.0   \n",
       "23    32001010051P42010   2010.0              4.0            21.0   \n",
       "...                 ...      ...              ...             ...   \n",
       "1899  33002010200P92008   2008.0              1.0             0.0   \n",
       "1900  33002029017P52008   2008.0              1.0             0.0   \n",
       "1901  33010013005P02008   2008.0              1.0             0.0   \n",
       "1902  42001013055P82008   2008.0              1.0             0.0   \n",
       "1903  53003012007P72008   2008.0              0.0             1.0   \n",
       "\n",
       "     CodigoPrograma  Dissertacao            NomePrograma NotaCapesDoutorado  \\\n",
       "19    32001010051p4         19.0                   artes                  5   \n",
       "20    32001010049p0         13.0             arquitetura                  4   \n",
       "21    32001010056p6         42.0      estudos literários                  7   \n",
       "22    32001010051p4         25.0                   artes                  5   \n",
       "23    32001010051p4         31.0                   artes                  5   \n",
       "...             ...          ...                     ...                ...   \n",
       "1899  33002010200p9          0.0           artes cênicas                NaN   \n",
       "1900  33002029017p5          0.0  enfermagem fundamental                NaN   \n",
       "1901  33010013005p0          0.0    sensoriamento remoto                NaN   \n",
       "1902  42001013055p8          0.0           artes visuais                NaN   \n",
       "1903  53003012007p7          0.0         educação física                NaN   \n",
       "\n",
       "     NotaCapesMestrado  ProducoesArtisticas  ProducoesBibliograficas  \\\n",
       "19                   5                126.0                    162.0   \n",
       "20                   4                 10.0                    100.0   \n",
       "21                   7                 13.0                    415.0   \n",
       "22                   5                164.0                    197.0   \n",
       "23                   5                146.0                    125.0   \n",
       "...                ...                  ...                      ...   \n",
       "1899               NaN                  0.0                      0.0   \n",
       "1900               NaN                  0.0                      0.0   \n",
       "1901               NaN                  0.0                      0.0   \n",
       "1902               NaN                  0.0                      0.0   \n",
       "1903               NaN                  0.0                      0.0   \n",
       "\n",
       "      ProducoesTecnicas  NumTeses  ValorAnualBolsaDoutorado  \\\n",
       "19                237.0       1.0                   43200.0   \n",
       "20                163.0       0.0                       0.0   \n",
       "21                447.0      24.0                  259200.0   \n",
       "22                235.0       0.0                   43200.0   \n",
       "23                157.0       6.0                   86400.0   \n",
       "...                 ...       ...                       ...   \n",
       "1899                0.0       0.0                       0.0   \n",
       "1900                0.0       0.0                       0.0   \n",
       "1901                0.0       0.0                       0.0   \n",
       "1902                0.0       0.0                       0.0   \n",
       "1903                0.0       0.0                       0.0   \n",
       "\n",
       "      ValorAnualBolsaMestrado  \n",
       "19                   129600.0  \n",
       "20                    86400.0  \n",
       "21                   230400.0  \n",
       "22                   172800.0  \n",
       "23                   302400.0  \n",
       "...                       ...  \n",
       "1899                      0.0  \n",
       "1900                      0.0  \n",
       "1901                      0.0  \n",
       "1902                      0.0  \n",
       "1903                      0.0  \n",
       "\n",
       "[789 rows x 15 columns]"
      ]
     },
     "metadata": {},
     "output_type": "display_data"
    }
   ],
   "source": [
    "# Removendo entradas inferiores a 2008 e menores que 2018\n",
    "dados08_17 = dados.query(\"AnoBase >= 2008\")\n",
    "dados08_17 = dados08_17.query(\"AnoBase < 2018\")\n",
    "\n",
    "# Removendo cursos sem nome\n",
    "dados08_17 =  dados08_17[pd.notnull(dados08_17['NomePrograma'])]\n",
    "\n",
    "print(\"Ano Max\", dados08_17['AnoBase'].max(), \"Ano Min:\", dados08_17['AnoBase'].min())\n",
    "display(dados08_17)"
   ]
  },
  {
   "cell_type": "code",
   "execution_count": 4,
   "metadata": {},
   "outputs": [],
   "source": [
    "# Consertando tipo dos dados\n",
    "# Algumas bolsas estao como string ou -\n",
    "def series_to_num(df):\n",
    "    # copio o df para n ter problemas com pandas\n",
    "    df_to_return = df.copy()\n",
    "    df_to_return = df_to_return.replace('-', np.nan)\n",
    "    df_to_return = pd.to_numeric(df_to_return)\n",
    "    return df_to_return\n",
    "\n",
    "# Tratando para as colunas Bolsas e Notas da Capes:\n",
    "dados08_17['BolsasDoutorado'] = series_to_num(dados08_17['BolsasDoutorado'])\n",
    "dados08_17['BolsasMestrado'] = series_to_num(dados08_17['BolsasMestrado'])\n",
    "dados08_17['NotaCapesDoutorado'] = series_to_num(dados08_17['NotaCapesDoutorado'])\n",
    "dados08_17['NotaCapesMestrado'] = series_to_num(dados08_17['NotaCapesMestrado'])\n",
    "\n",
    "# Slice dos dfs\n",
    "cursos_mestrado = dados08_17[[\"NomePrograma\", \"AnoBase\", \"BolsasMestrado\", \"NotaCapesMestrado\", \"ValorAnualBolsaMestrado\", \"Dissertacao\", \"ProducoesBibliograficas\", \"ProducoesTecnicas\", \"ProducoesArtisticas\", \"CodigoPrograma\"]]\n",
    "cursos_doutorado = dados08_17[[\"NomePrograma\", \"AnoBase\", \"BolsasDoutorado\", \"NotaCapesDoutorado\", \"ValorAnualBolsaDoutorado\", \"Dissertacao\", \"NumTeses\", \"ProducoesBibliograficas\", \"ProducoesTecnicas\", \"ProducoesArtisticas\", \"CodigoPrograma\"]]"
   ]
  },
  {
   "cell_type": "code",
   "execution_count": 5,
   "metadata": {},
   "outputs": [
    {
     "name": "stdout",
     "output_type": "stream",
     "text": [
      "Numero de cursos mestrado com notas capes:  656\n",
      "Numero de cursos doutorado com notas capes:  578\n"
     ]
    },
    {
     "data": {
      "text/html": [
       "<div>\n",
       "<style scoped>\n",
       "    .dataframe tbody tr th:only-of-type {\n",
       "        vertical-align: middle;\n",
       "    }\n",
       "\n",
       "    .dataframe tbody tr th {\n",
       "        vertical-align: top;\n",
       "    }\n",
       "\n",
       "    .dataframe thead th {\n",
       "        text-align: right;\n",
       "    }\n",
       "</style>\n",
       "<table border=\"1\" class=\"dataframe\">\n",
       "  <thead>\n",
       "    <tr style=\"text-align: right;\">\n",
       "      <th></th>\n",
       "      <th>AnoBase</th>\n",
       "      <th>BolsasMestrado</th>\n",
       "      <th>NotaCapesMestrado</th>\n",
       "      <th>ValorAnualBolsaMestrado</th>\n",
       "      <th>Dissertacao</th>\n",
       "      <th>ProducoesBibliograficas</th>\n",
       "      <th>ProducoesTecnicas</th>\n",
       "      <th>ProducoesArtisticas</th>\n",
       "    </tr>\n",
       "  </thead>\n",
       "  <tbody>\n",
       "    <tr>\n",
       "      <th>count</th>\n",
       "      <td>656.000000</td>\n",
       "      <td>656.000000</td>\n",
       "      <td>656.000000</td>\n",
       "      <td>6.560000e+02</td>\n",
       "      <td>656.000000</td>\n",
       "      <td>656.000000</td>\n",
       "      <td>656.000000</td>\n",
       "      <td>656.000000</td>\n",
       "    </tr>\n",
       "    <tr>\n",
       "      <th>mean</th>\n",
       "      <td>2012.719512</td>\n",
       "      <td>15.358232</td>\n",
       "      <td>5.204268</td>\n",
       "      <td>2.501232e+05</td>\n",
       "      <td>19.320122</td>\n",
       "      <td>182.385671</td>\n",
       "      <td>111.582317</td>\n",
       "      <td>3.673780</td>\n",
       "    </tr>\n",
       "    <tr>\n",
       "      <th>std</th>\n",
       "      <td>2.857531</td>\n",
       "      <td>10.080047</td>\n",
       "      <td>1.173907</td>\n",
       "      <td>1.717871e+05</td>\n",
       "      <td>12.973300</td>\n",
       "      <td>115.144167</td>\n",
       "      <td>167.536117</td>\n",
       "      <td>20.751609</td>\n",
       "    </tr>\n",
       "    <tr>\n",
       "      <th>min</th>\n",
       "      <td>2008.000000</td>\n",
       "      <td>1.000000</td>\n",
       "      <td>3.000000</td>\n",
       "      <td>1.440000e+04</td>\n",
       "      <td>0.000000</td>\n",
       "      <td>27.000000</td>\n",
       "      <td>0.000000</td>\n",
       "      <td>0.000000</td>\n",
       "    </tr>\n",
       "    <tr>\n",
       "      <th>25%</th>\n",
       "      <td>2010.000000</td>\n",
       "      <td>9.000000</td>\n",
       "      <td>4.000000</td>\n",
       "      <td>1.440000e+05</td>\n",
       "      <td>11.000000</td>\n",
       "      <td>109.000000</td>\n",
       "      <td>17.000000</td>\n",
       "      <td>0.000000</td>\n",
       "    </tr>\n",
       "    <tr>\n",
       "      <th>50%</th>\n",
       "      <td>2013.000000</td>\n",
       "      <td>14.000000</td>\n",
       "      <td>5.000000</td>\n",
       "      <td>2.160000e+05</td>\n",
       "      <td>16.000000</td>\n",
       "      <td>162.000000</td>\n",
       "      <td>51.000000</td>\n",
       "      <td>0.000000</td>\n",
       "    </tr>\n",
       "    <tr>\n",
       "      <th>75%</th>\n",
       "      <td>2015.000000</td>\n",
       "      <td>19.000000</td>\n",
       "      <td>6.000000</td>\n",
       "      <td>3.100500e+05</td>\n",
       "      <td>23.250000</td>\n",
       "      <td>224.000000</td>\n",
       "      <td>124.250000</td>\n",
       "      <td>0.000000</td>\n",
       "    </tr>\n",
       "    <tr>\n",
       "      <th>max</th>\n",
       "      <td>2017.000000</td>\n",
       "      <td>65.000000</td>\n",
       "      <td>7.000000</td>\n",
       "      <td>1.053000e+06</td>\n",
       "      <td>80.000000</td>\n",
       "      <td>965.000000</td>\n",
       "      <td>1333.000000</td>\n",
       "      <td>219.000000</td>\n",
       "    </tr>\n",
       "  </tbody>\n",
       "</table>\n",
       "</div>"
      ],
      "text/plain": [
       "           AnoBase  BolsasMestrado  NotaCapesMestrado  \\\n",
       "count   656.000000      656.000000         656.000000   \n",
       "mean   2012.719512       15.358232           5.204268   \n",
       "std       2.857531       10.080047           1.173907   \n",
       "min    2008.000000        1.000000           3.000000   \n",
       "25%    2010.000000        9.000000           4.000000   \n",
       "50%    2013.000000       14.000000           5.000000   \n",
       "75%    2015.000000       19.000000           6.000000   \n",
       "max    2017.000000       65.000000           7.000000   \n",
       "\n",
       "       ValorAnualBolsaMestrado  Dissertacao  ProducoesBibliograficas  \\\n",
       "count             6.560000e+02   656.000000               656.000000   \n",
       "mean              2.501232e+05    19.320122               182.385671   \n",
       "std               1.717871e+05    12.973300               115.144167   \n",
       "min               1.440000e+04     0.000000                27.000000   \n",
       "25%               1.440000e+05    11.000000               109.000000   \n",
       "50%               2.160000e+05    16.000000               162.000000   \n",
       "75%               3.100500e+05    23.250000               224.000000   \n",
       "max               1.053000e+06    80.000000               965.000000   \n",
       "\n",
       "       ProducoesTecnicas  ProducoesArtisticas  \n",
       "count         656.000000           656.000000  \n",
       "mean          111.582317             3.673780  \n",
       "std           167.536117            20.751609  \n",
       "min             0.000000             0.000000  \n",
       "25%            17.000000             0.000000  \n",
       "50%            51.000000             0.000000  \n",
       "75%           124.250000             0.000000  \n",
       "max          1333.000000           219.000000  "
      ]
     },
     "metadata": {},
     "output_type": "display_data"
    },
    {
     "data": {
      "text/html": [
       "<div>\n",
       "<style scoped>\n",
       "    .dataframe tbody tr th:only-of-type {\n",
       "        vertical-align: middle;\n",
       "    }\n",
       "\n",
       "    .dataframe tbody tr th {\n",
       "        vertical-align: top;\n",
       "    }\n",
       "\n",
       "    .dataframe thead th {\n",
       "        text-align: right;\n",
       "    }\n",
       "</style>\n",
       "<table border=\"1\" class=\"dataframe\">\n",
       "  <thead>\n",
       "    <tr style=\"text-align: right;\">\n",
       "      <th></th>\n",
       "      <th>AnoBase</th>\n",
       "      <th>BolsasDoutorado</th>\n",
       "      <th>NotaCapesDoutorado</th>\n",
       "      <th>ValorAnualBolsaDoutorado</th>\n",
       "      <th>Dissertacao</th>\n",
       "      <th>NumTeses</th>\n",
       "      <th>ProducoesBibliograficas</th>\n",
       "      <th>ProducoesTecnicas</th>\n",
       "      <th>ProducoesArtisticas</th>\n",
       "    </tr>\n",
       "  </thead>\n",
       "  <tbody>\n",
       "    <tr>\n",
       "      <th>count</th>\n",
       "      <td>578.000000</td>\n",
       "      <td>578.000000</td>\n",
       "      <td>578.000000</td>\n",
       "      <td>5.780000e+02</td>\n",
       "      <td>578.000000</td>\n",
       "      <td>578.000000</td>\n",
       "      <td>578.000000</td>\n",
       "      <td>578.000000</td>\n",
       "      <td>578.000000</td>\n",
       "    </tr>\n",
       "    <tr>\n",
       "      <th>mean</th>\n",
       "      <td>2012.757785</td>\n",
       "      <td>18.420415</td>\n",
       "      <td>5.449827</td>\n",
       "      <td>4.529356e+05</td>\n",
       "      <td>20.354671</td>\n",
       "      <td>11.257785</td>\n",
       "      <td>195.946367</td>\n",
       "      <td>118.920415</td>\n",
       "      <td>4.119377</td>\n",
       "    </tr>\n",
       "    <tr>\n",
       "      <th>std</th>\n",
       "      <td>2.842513</td>\n",
       "      <td>12.907808</td>\n",
       "      <td>1.025705</td>\n",
       "      <td>3.376310e+05</td>\n",
       "      <td>13.280620</td>\n",
       "      <td>9.218190</td>\n",
       "      <td>115.755489</td>\n",
       "      <td>175.652013</td>\n",
       "      <td>22.061548</td>\n",
       "    </tr>\n",
       "    <tr>\n",
       "      <th>min</th>\n",
       "      <td>2008.000000</td>\n",
       "      <td>1.000000</td>\n",
       "      <td>3.000000</td>\n",
       "      <td>2.160000e+04</td>\n",
       "      <td>0.000000</td>\n",
       "      <td>0.000000</td>\n",
       "      <td>32.000000</td>\n",
       "      <td>0.000000</td>\n",
       "      <td>0.000000</td>\n",
       "    </tr>\n",
       "    <tr>\n",
       "      <th>25%</th>\n",
       "      <td>2010.000000</td>\n",
       "      <td>9.000000</td>\n",
       "      <td>5.000000</td>\n",
       "      <td>2.160000e+05</td>\n",
       "      <td>12.000000</td>\n",
       "      <td>5.000000</td>\n",
       "      <td>123.000000</td>\n",
       "      <td>17.000000</td>\n",
       "      <td>0.000000</td>\n",
       "    </tr>\n",
       "    <tr>\n",
       "      <th>50%</th>\n",
       "      <td>2013.000000</td>\n",
       "      <td>15.000000</td>\n",
       "      <td>5.000000</td>\n",
       "      <td>3.696000e+05</td>\n",
       "      <td>17.000000</td>\n",
       "      <td>10.000000</td>\n",
       "      <td>175.500000</td>\n",
       "      <td>53.000000</td>\n",
       "      <td>0.000000</td>\n",
       "    </tr>\n",
       "    <tr>\n",
       "      <th>75%</th>\n",
       "      <td>2015.000000</td>\n",
       "      <td>25.000000</td>\n",
       "      <td>6.000000</td>\n",
       "      <td>6.336000e+05</td>\n",
       "      <td>24.750000</td>\n",
       "      <td>15.000000</td>\n",
       "      <td>237.000000</td>\n",
       "      <td>135.500000</td>\n",
       "      <td>0.000000</td>\n",
       "    </tr>\n",
       "    <tr>\n",
       "      <th>max</th>\n",
       "      <td>2017.000000</td>\n",
       "      <td>85.000000</td>\n",
       "      <td>7.000000</td>\n",
       "      <td>2.244000e+06</td>\n",
       "      <td>80.000000</td>\n",
       "      <td>71.000000</td>\n",
       "      <td>965.000000</td>\n",
       "      <td>1333.000000</td>\n",
       "      <td>219.000000</td>\n",
       "    </tr>\n",
       "  </tbody>\n",
       "</table>\n",
       "</div>"
      ],
      "text/plain": [
       "           AnoBase  BolsasDoutorado  NotaCapesDoutorado  \\\n",
       "count   578.000000       578.000000          578.000000   \n",
       "mean   2012.757785        18.420415            5.449827   \n",
       "std       2.842513        12.907808            1.025705   \n",
       "min    2008.000000         1.000000            3.000000   \n",
       "25%    2010.000000         9.000000            5.000000   \n",
       "50%    2013.000000        15.000000            5.000000   \n",
       "75%    2015.000000        25.000000            6.000000   \n",
       "max    2017.000000        85.000000            7.000000   \n",
       "\n",
       "       ValorAnualBolsaDoutorado  Dissertacao    NumTeses  \\\n",
       "count              5.780000e+02   578.000000  578.000000   \n",
       "mean               4.529356e+05    20.354671   11.257785   \n",
       "std                3.376310e+05    13.280620    9.218190   \n",
       "min                2.160000e+04     0.000000    0.000000   \n",
       "25%                2.160000e+05    12.000000    5.000000   \n",
       "50%                3.696000e+05    17.000000   10.000000   \n",
       "75%                6.336000e+05    24.750000   15.000000   \n",
       "max                2.244000e+06    80.000000   71.000000   \n",
       "\n",
       "       ProducoesBibliograficas  ProducoesTecnicas  ProducoesArtisticas  \n",
       "count               578.000000         578.000000           578.000000  \n",
       "mean                195.946367         118.920415             4.119377  \n",
       "std                 115.755489         175.652013            22.061548  \n",
       "min                  32.000000           0.000000             0.000000  \n",
       "25%                 123.000000          17.000000             0.000000  \n",
       "50%                 175.500000          53.000000             0.000000  \n",
       "75%                 237.000000         135.500000             0.000000  \n",
       "max                 965.000000        1333.000000           219.000000  "
      ]
     },
     "execution_count": 5,
     "metadata": {},
     "output_type": "execute_result"
    }
   ],
   "source": [
    "# Removendo cursos sem nota capes\n",
    "cursos_mestrado =  cursos_mestrado[pd.notnull(cursos_mestrado['NotaCapesMestrado'])]\n",
    "cursos_doutorado = cursos_doutorado[pd.notnull(cursos_doutorado['NotaCapesDoutorado'])]\n",
    "\n",
    "# Removendo cursos com modalidades que nao existiam ainda e por isso tem valor da bolsa 0 no dataframe\n",
    "cursos_mestrado =  cursos_mestrado.query('ValorAnualBolsaMestrado > 0')\n",
    "cursos_doutorado = cursos_doutorado.query('ValorAnualBolsaDoutorado > 0')\n",
    "\n",
    "print(\"Numero de cursos mestrado com notas capes: \", cursos_mestrado.shape[0])\n",
    "print(\"Numero de cursos doutorado com notas capes: \", cursos_doutorado.shape[0])\n",
    "\n",
    "# Exportando os datasets caso usemos depois\n",
    "cursos_mestrado.to_excel(\"./datasets/cursos_mestrado.xlsx\")\n",
    "cursos_doutorado.to_excel(\"./datasets/cursos_doc.xlsx\")\n",
    "\n",
    "display(cursos_mestrado.describe())\n",
    "cursos_doutorado.describe()\n",
    "#sns.pairplot(cursos_mestrado, diag_kws={'edgecolor':'k'}, plot_kws={'alpha':0.5, 'edgecolor':'k'})"
   ]
  },
  {
   "cell_type": "markdown",
   "metadata": {},
   "source": [
    "## Regressão:\n",
    "### Se um curso com nível capes (3, 4 e 5)  inferior recebesse o mesmo tanto que um curso CAPES 7, o quão produtivo ele seria?\n"
   ]
  },
  {
   "cell_type": "code",
   "execution_count": 6,
   "metadata": {},
   "outputs": [
    {
     "name": "stdout",
     "output_type": "stream",
     "text": [
      "Cursos nota 5 ou menos:  392 \n",
      "Cursos nota 7:  112\n"
     ]
    }
   ],
   "source": [
    "# Primeiro vamos separar os cursos nivel capes menores que 5\n",
    "mestrado_capes_5 = cursos_mestrado.query('NotaCapesMestrado <= 5')\n",
    "mestrado_capes_7 = cursos_mestrado.query('NotaCapesMestrado == 7') # E os iguais a 7\n",
    "num_cursos_cp5 = mestrado_capes_5.shape[0]\n",
    "num_cursos_cp7 = mestrado_capes_7.shape[0]\n",
    "\n",
    "# Quantos cursos sao ?\n",
    "print(\"Cursos nota 5 ou menos: \", num_cursos_cp5, \"\\n\"\n",
    "      \"Cursos nota 7: \", num_cursos_cp7)\n",
    "\n",
    "investimento_ano_cp5 = mestrado_capes_5.groupby([\"AnoBase\"])['ValorAnualBolsaMestrado'].sum()\n",
    "investimento_ano_cp7 = mestrado_capes_7.groupby([\"AnoBase\"])['ValorAnualBolsaMestrado'].sum()\n",
    "num_cursos_ano_cp5 = mestrado_capes_5.groupby([\"AnoBase\"])['NomePrograma'].count()\n",
    "num_cursos_ano_cp7 = mestrado_capes_7.groupby([\"AnoBase\"])['NomePrograma'].count()\n",
    "\n",
    "# Quanto cada um ganha ?\n",
    "# Investimento medio por curso\n",
    "inv_medio_por_curso_cp5 =investimento_ano_cp5/num_cursos_ano_cp5\n",
    "inv_medio_por_curso_cp7 = investimento_ano_cp7/num_cursos_ano_cp7"
   ]
  },
  {
   "cell_type": "code",
   "execution_count": 7,
   "metadata": {
    "scrolled": true
   },
   "outputs": [
    {
     "data": {
      "text/html": [
       "<div>\n",
       "<style scoped>\n",
       "    .dataframe tbody tr th:only-of-type {\n",
       "        vertical-align: middle;\n",
       "    }\n",
       "\n",
       "    .dataframe tbody tr th {\n",
       "        vertical-align: top;\n",
       "    }\n",
       "\n",
       "    .dataframe thead th {\n",
       "        text-align: right;\n",
       "    }\n",
       "</style>\n",
       "<table border=\"1\" class=\"dataframe\">\n",
       "  <thead>\n",
       "    <tr style=\"text-align: right;\">\n",
       "      <th></th>\n",
       "      <th>ProducoesArtisticas</th>\n",
       "      <th>ProducoesBibliograficas</th>\n",
       "      <th>ProducoesTecnicas</th>\n",
       "      <th>ProducaoTotal</th>\n",
       "      <th>NumProgramasAno</th>\n",
       "      <th>ProducaoMediaPorCurso</th>\n",
       "      <th>InvestimentoPorAno</th>\n",
       "      <th>InvestimentoMedioPCurso</th>\n",
       "    </tr>\n",
       "    <tr>\n",
       "      <th>AnoBase</th>\n",
       "      <th></th>\n",
       "      <th></th>\n",
       "      <th></th>\n",
       "      <th></th>\n",
       "      <th></th>\n",
       "      <th></th>\n",
       "      <th></th>\n",
       "      <th></th>\n",
       "    </tr>\n",
       "  </thead>\n",
       "  <tbody>\n",
       "    <tr>\n",
       "      <th>2008.0</th>\n",
       "      <td>141.0</td>\n",
       "      <td>5756.0</td>\n",
       "      <td>2991.0</td>\n",
       "      <td>8888.0</td>\n",
       "      <td>43</td>\n",
       "      <td>206.697674</td>\n",
       "      <td>4809600.0</td>\n",
       "      <td>111851.162791</td>\n",
       "    </tr>\n",
       "    <tr>\n",
       "      <th>2009.0</th>\n",
       "      <td>176.0</td>\n",
       "      <td>7420.0</td>\n",
       "      <td>3466.0</td>\n",
       "      <td>11062.0</td>\n",
       "      <td>46</td>\n",
       "      <td>240.478261</td>\n",
       "      <td>5068800.0</td>\n",
       "      <td>110191.304348</td>\n",
       "    </tr>\n",
       "    <tr>\n",
       "      <th>2010.0</th>\n",
       "      <td>154.0</td>\n",
       "      <td>5433.0</td>\n",
       "      <td>2444.0</td>\n",
       "      <td>8031.0</td>\n",
       "      <td>37</td>\n",
       "      <td>217.054054</td>\n",
       "      <td>5803200.0</td>\n",
       "      <td>156843.243243</td>\n",
       "    </tr>\n",
       "    <tr>\n",
       "      <th>2011.0</th>\n",
       "      <td>176.0</td>\n",
       "      <td>5817.0</td>\n",
       "      <td>2572.0</td>\n",
       "      <td>8565.0</td>\n",
       "      <td>39</td>\n",
       "      <td>219.615385</td>\n",
       "      <td>8798400.0</td>\n",
       "      <td>225600.000000</td>\n",
       "    </tr>\n",
       "    <tr>\n",
       "      <th>2012.0</th>\n",
       "      <td>114.0</td>\n",
       "      <td>6313.0</td>\n",
       "      <td>2894.0</td>\n",
       "      <td>9321.0</td>\n",
       "      <td>40</td>\n",
       "      <td>233.025000</td>\n",
       "      <td>9302400.0</td>\n",
       "      <td>232560.000000</td>\n",
       "    </tr>\n",
       "    <tr>\n",
       "      <th>2013.0</th>\n",
       "      <td>266.0</td>\n",
       "      <td>5423.0</td>\n",
       "      <td>3373.0</td>\n",
       "      <td>9062.0</td>\n",
       "      <td>36</td>\n",
       "      <td>251.722222</td>\n",
       "      <td>9072000.0</td>\n",
       "      <td>252000.000000</td>\n",
       "    </tr>\n",
       "    <tr>\n",
       "      <th>2014.0</th>\n",
       "      <td>298.0</td>\n",
       "      <td>5915.0</td>\n",
       "      <td>3168.0</td>\n",
       "      <td>9381.0</td>\n",
       "      <td>39</td>\n",
       "      <td>240.538462</td>\n",
       "      <td>10800000.0</td>\n",
       "      <td>276923.076923</td>\n",
       "    </tr>\n",
       "    <tr>\n",
       "      <th>2015.0</th>\n",
       "      <td>169.0</td>\n",
       "      <td>5321.0</td>\n",
       "      <td>2614.0</td>\n",
       "      <td>8104.0</td>\n",
       "      <td>36</td>\n",
       "      <td>225.111111</td>\n",
       "      <td>9144000.0</td>\n",
       "      <td>254000.000000</td>\n",
       "    </tr>\n",
       "    <tr>\n",
       "      <th>2016.0</th>\n",
       "      <td>201.0</td>\n",
       "      <td>5249.0</td>\n",
       "      <td>3046.0</td>\n",
       "      <td>8496.0</td>\n",
       "      <td>38</td>\n",
       "      <td>223.578947</td>\n",
       "      <td>8622000.0</td>\n",
       "      <td>226894.736842</td>\n",
       "    </tr>\n",
       "    <tr>\n",
       "      <th>2017.0</th>\n",
       "      <td>231.0</td>\n",
       "      <td>5583.0</td>\n",
       "      <td>3024.0</td>\n",
       "      <td>8838.0</td>\n",
       "      <td>38</td>\n",
       "      <td>232.578947</td>\n",
       "      <td>8820000.0</td>\n",
       "      <td>232105.263158</td>\n",
       "    </tr>\n",
       "  </tbody>\n",
       "</table>\n",
       "</div>"
      ],
      "text/plain": [
       "         ProducoesArtisticas  ProducoesBibliograficas  ProducoesTecnicas  \\\n",
       "AnoBase                                                                    \n",
       "2008.0                 141.0                   5756.0             2991.0   \n",
       "2009.0                 176.0                   7420.0             3466.0   \n",
       "2010.0                 154.0                   5433.0             2444.0   \n",
       "2011.0                 176.0                   5817.0             2572.0   \n",
       "2012.0                 114.0                   6313.0             2894.0   \n",
       "2013.0                 266.0                   5423.0             3373.0   \n",
       "2014.0                 298.0                   5915.0             3168.0   \n",
       "2015.0                 169.0                   5321.0             2614.0   \n",
       "2016.0                 201.0                   5249.0             3046.0   \n",
       "2017.0                 231.0                   5583.0             3024.0   \n",
       "\n",
       "         ProducaoTotal  NumProgramasAno  ProducaoMediaPorCurso  \\\n",
       "AnoBase                                                          \n",
       "2008.0          8888.0               43             206.697674   \n",
       "2009.0         11062.0               46             240.478261   \n",
       "2010.0          8031.0               37             217.054054   \n",
       "2011.0          8565.0               39             219.615385   \n",
       "2012.0          9321.0               40             233.025000   \n",
       "2013.0          9062.0               36             251.722222   \n",
       "2014.0          9381.0               39             240.538462   \n",
       "2015.0          8104.0               36             225.111111   \n",
       "2016.0          8496.0               38             223.578947   \n",
       "2017.0          8838.0               38             232.578947   \n",
       "\n",
       "         InvestimentoPorAno  InvestimentoMedioPCurso  \n",
       "AnoBase                                               \n",
       "2008.0            4809600.0            111851.162791  \n",
       "2009.0            5068800.0            110191.304348  \n",
       "2010.0            5803200.0            156843.243243  \n",
       "2011.0            8798400.0            225600.000000  \n",
       "2012.0            9302400.0            232560.000000  \n",
       "2013.0            9072000.0            252000.000000  \n",
       "2014.0           10800000.0            276923.076923  \n",
       "2015.0            9144000.0            254000.000000  \n",
       "2016.0            8622000.0            226894.736842  \n",
       "2017.0            8820000.0            232105.263158  "
      ]
     },
     "metadata": {},
     "output_type": "display_data"
    },
    {
     "data": {
      "text/html": [
       "<div>\n",
       "<style scoped>\n",
       "    .dataframe tbody tr th:only-of-type {\n",
       "        vertical-align: middle;\n",
       "    }\n",
       "\n",
       "    .dataframe tbody tr th {\n",
       "        vertical-align: top;\n",
       "    }\n",
       "\n",
       "    .dataframe thead th {\n",
       "        text-align: right;\n",
       "    }\n",
       "</style>\n",
       "<table border=\"1\" class=\"dataframe\">\n",
       "  <thead>\n",
       "    <tr style=\"text-align: right;\">\n",
       "      <th></th>\n",
       "      <th>ProducoesArtisticas</th>\n",
       "      <th>ProducoesBibliograficas</th>\n",
       "      <th>ProducoesTecnicas</th>\n",
       "      <th>ProducaoTotal</th>\n",
       "      <th>NumProgramasAno</th>\n",
       "      <th>ProducaoMediaPorCurso</th>\n",
       "      <th>InvestimentoPorAno</th>\n",
       "      <th>InvestimentoMedioPCurso</th>\n",
       "    </tr>\n",
       "    <tr>\n",
       "      <th>AnoBase</th>\n",
       "      <th></th>\n",
       "      <th></th>\n",
       "      <th></th>\n",
       "      <th></th>\n",
       "      <th></th>\n",
       "      <th></th>\n",
       "      <th></th>\n",
       "      <th></th>\n",
       "    </tr>\n",
       "  </thead>\n",
       "  <tbody>\n",
       "    <tr>\n",
       "      <th>2008.0</th>\n",
       "      <td>13.0</td>\n",
       "      <td>857.0</td>\n",
       "      <td>485.0</td>\n",
       "      <td>1355.0</td>\n",
       "      <td>4</td>\n",
       "      <td>338.750000</td>\n",
       "      <td>1065600.0</td>\n",
       "      <td>266400.000000</td>\n",
       "    </tr>\n",
       "    <tr>\n",
       "      <th>2009.0</th>\n",
       "      <td>1.0</td>\n",
       "      <td>782.0</td>\n",
       "      <td>473.0</td>\n",
       "      <td>1256.0</td>\n",
       "      <td>4</td>\n",
       "      <td>314.000000</td>\n",
       "      <td>964800.0</td>\n",
       "      <td>241200.000000</td>\n",
       "    </tr>\n",
       "    <tr>\n",
       "      <th>2010.0</th>\n",
       "      <td>15.0</td>\n",
       "      <td>2516.0</td>\n",
       "      <td>1873.0</td>\n",
       "      <td>4404.0</td>\n",
       "      <td>9</td>\n",
       "      <td>489.333333</td>\n",
       "      <td>2635200.0</td>\n",
       "      <td>292800.000000</td>\n",
       "    </tr>\n",
       "    <tr>\n",
       "      <th>2011.0</th>\n",
       "      <td>24.0</td>\n",
       "      <td>2257.0</td>\n",
       "      <td>1508.0</td>\n",
       "      <td>3789.0</td>\n",
       "      <td>9</td>\n",
       "      <td>421.000000</td>\n",
       "      <td>2692800.0</td>\n",
       "      <td>299200.000000</td>\n",
       "    </tr>\n",
       "    <tr>\n",
       "      <th>2012.0</th>\n",
       "      <td>3.0</td>\n",
       "      <td>2615.0</td>\n",
       "      <td>1788.0</td>\n",
       "      <td>4406.0</td>\n",
       "      <td>9</td>\n",
       "      <td>489.555556</td>\n",
       "      <td>3110400.0</td>\n",
       "      <td>345600.000000</td>\n",
       "    </tr>\n",
       "    <tr>\n",
       "      <th>2013.0</th>\n",
       "      <td>7.0</td>\n",
       "      <td>3596.0</td>\n",
       "      <td>2338.0</td>\n",
       "      <td>5941.0</td>\n",
       "      <td>13</td>\n",
       "      <td>457.000000</td>\n",
       "      <td>5751000.0</td>\n",
       "      <td>442384.615385</td>\n",
       "    </tr>\n",
       "    <tr>\n",
       "      <th>2014.0</th>\n",
       "      <td>20.0</td>\n",
       "      <td>3740.0</td>\n",
       "      <td>2196.0</td>\n",
       "      <td>5956.0</td>\n",
       "      <td>13</td>\n",
       "      <td>458.153846</td>\n",
       "      <td>5778000.0</td>\n",
       "      <td>444461.538462</td>\n",
       "    </tr>\n",
       "    <tr>\n",
       "      <th>2015.0</th>\n",
       "      <td>23.0</td>\n",
       "      <td>4594.0</td>\n",
       "      <td>3266.0</td>\n",
       "      <td>7883.0</td>\n",
       "      <td>17</td>\n",
       "      <td>463.705882</td>\n",
       "      <td>7578000.0</td>\n",
       "      <td>445764.705882</td>\n",
       "    </tr>\n",
       "    <tr>\n",
       "      <th>2016.0</th>\n",
       "      <td>16.0</td>\n",
       "      <td>4239.0</td>\n",
       "      <td>3183.0</td>\n",
       "      <td>7438.0</td>\n",
       "      <td>17</td>\n",
       "      <td>437.529412</td>\n",
       "      <td>7308000.0</td>\n",
       "      <td>429882.352941</td>\n",
       "    </tr>\n",
       "    <tr>\n",
       "      <th>2017.0</th>\n",
       "      <td>16.0</td>\n",
       "      <td>4264.0</td>\n",
       "      <td>3593.0</td>\n",
       "      <td>7873.0</td>\n",
       "      <td>17</td>\n",
       "      <td>463.117647</td>\n",
       "      <td>7434000.0</td>\n",
       "      <td>437294.117647</td>\n",
       "    </tr>\n",
       "  </tbody>\n",
       "</table>\n",
       "</div>"
      ],
      "text/plain": [
       "         ProducoesArtisticas  ProducoesBibliograficas  ProducoesTecnicas  \\\n",
       "AnoBase                                                                    \n",
       "2008.0                  13.0                    857.0              485.0   \n",
       "2009.0                   1.0                    782.0              473.0   \n",
       "2010.0                  15.0                   2516.0             1873.0   \n",
       "2011.0                  24.0                   2257.0             1508.0   \n",
       "2012.0                   3.0                   2615.0             1788.0   \n",
       "2013.0                   7.0                   3596.0             2338.0   \n",
       "2014.0                  20.0                   3740.0             2196.0   \n",
       "2015.0                  23.0                   4594.0             3266.0   \n",
       "2016.0                  16.0                   4239.0             3183.0   \n",
       "2017.0                  16.0                   4264.0             3593.0   \n",
       "\n",
       "         ProducaoTotal  NumProgramasAno  ProducaoMediaPorCurso  \\\n",
       "AnoBase                                                          \n",
       "2008.0          1355.0                4             338.750000   \n",
       "2009.0          1256.0                4             314.000000   \n",
       "2010.0          4404.0                9             489.333333   \n",
       "2011.0          3789.0                9             421.000000   \n",
       "2012.0          4406.0                9             489.555556   \n",
       "2013.0          5941.0               13             457.000000   \n",
       "2014.0          5956.0               13             458.153846   \n",
       "2015.0          7883.0               17             463.705882   \n",
       "2016.0          7438.0               17             437.529412   \n",
       "2017.0          7873.0               17             463.117647   \n",
       "\n",
       "         InvestimentoPorAno  InvestimentoMedioPCurso  \n",
       "AnoBase                                               \n",
       "2008.0            1065600.0            266400.000000  \n",
       "2009.0             964800.0            241200.000000  \n",
       "2010.0            2635200.0            292800.000000  \n",
       "2011.0            2692800.0            299200.000000  \n",
       "2012.0            3110400.0            345600.000000  \n",
       "2013.0            5751000.0            442384.615385  \n",
       "2014.0            5778000.0            444461.538462  \n",
       "2015.0            7578000.0            445764.705882  \n",
       "2016.0            7308000.0            429882.352941  \n",
       "2017.0            7434000.0            437294.117647  "
      ]
     },
     "metadata": {},
     "output_type": "display_data"
    }
   ],
   "source": [
    "# Juntando os dados da producao para capes < 5\n",
    "producao_cp5 = mestrado_capes_5.groupby([\"AnoBase\"]).agg({\n",
    "    \"ProducoesArtisticas\": 'sum',\n",
    "    \"ProducoesBibliograficas\": 'sum',\n",
    "    \"ProducoesTecnicas\": 'sum',\n",
    "})\n",
    "\n",
    "# Juntando os dados da producao para capes 7\n",
    "producao_cp7 = mestrado_capes_7.groupby([\"AnoBase\"]).agg({\n",
    "    \"ProducoesArtisticas\": 'sum',\n",
    "    \"ProducoesBibliograficas\": 'sum',\n",
    "    \"ProducoesTecnicas\": 'sum',\n",
    "})\n",
    "\n",
    "# Producao total dos programas\n",
    "producao_cp5['ProducaoTotal'] = producao_cp5.sum(axis=1)\n",
    "\n",
    "# Numero de programas\n",
    "producao_cp5['NumProgramasAno'] = num_cursos_ano_cp5\n",
    "\n",
    "# Producao media por programa: total de dinheiro no ano/numero de programas daquele ano\n",
    "producao_cp5['ProducaoMediaPorCurso'] = producao_cp5['ProducaoTotal']/num_cursos_ano_cp5\n",
    "producao_cp5['InvestimentoPorAno'] = investimento_ano_cp5\n",
    "producao_cp5['InvestimentoMedioPCurso'] = investimento_ano_cp5/num_cursos_ano_cp5\n",
    "\n",
    "# Producao total dos cursos\n",
    "producao_cp7['ProducaoTotal'] = producao_cp7.sum(axis=1)\n",
    "producao_cp7['NumProgramasAno'] = num_cursos_ano_cp7\n",
    "producao_cp7['ProducaoMediaPorCurso'] = producao_cp7['ProducaoTotal']/num_cursos_ano_cp7\n",
    "producao_cp7['InvestimentoPorAno'] = investimento_ano_cp7\n",
    "producao_cp7['InvestimentoMedioPCurso'] = investimento_ano_cp7/num_cursos_ano_cp7\n",
    "\n",
    "\n",
    "display(producao_cp5, producao_cp7)\n"
   ]
  },
  {
   "cell_type": "markdown",
   "metadata": {},
   "source": [
    "### Quanto os cursos capes 7 ganham e produzem mais ?"
   ]
  },
  {
   "cell_type": "code",
   "execution_count": 8,
   "metadata": {},
   "outputs": [
    {
     "name": "stdout",
     "output_type": "stream",
     "text": [
      "Quanto os cursos capes 7 ganham a mais em media por curso se comparado com os abaixo de 5 ?\n"
     ]
    },
    {
     "data": {
      "text/plain": [
       "1.8143939023777738"
      ]
     },
     "metadata": {},
     "output_type": "display_data"
    },
    {
     "name": "stdout",
     "output_type": "stream",
     "text": [
      "Quanto os cursos capes 7 produzem a mais em media por curso se comparado com os abaixo de 5 ?\n"
     ]
    },
    {
     "data": {
      "text/plain": [
       "1.8945142752423425"
      ]
     },
     "metadata": {},
     "output_type": "display_data"
    }
   ],
   "source": [
    "print(\"Quanto os cursos capes 7 ganham a mais em media por curso se comparado com os abaixo de 5 ?\")\n",
    "display((inv_medio_por_curso_cp7/inv_medio_por_curso_cp5).mean())\n",
    "print(\"Quanto os cursos capes 7 produzem a mais em media por curso se comparado com os abaixo de 5 ?\")\n",
    "display((producao_cp7['ProducaoMediaPorCurso']/producao_cp5['ProducaoMediaPorCurso']).mean())\n"
   ]
  },
  {
   "cell_type": "code",
   "execution_count": 9,
   "metadata": {},
   "outputs": [
    {
     "data": {
      "text/plain": [
       "Text(0, 0.5, 'Produção Média')"
      ]
     },
     "execution_count": 9,
     "metadata": {},
     "output_type": "execute_result"
    },
    {
     "data": {
      "image/png": "[encoded data removed]",
      "text/plain": [
       "<Figure size 432x288 with 1 Axes>"
      ]
     },
     "metadata": {},
     "output_type": "display_data"
    }
   ],
   "source": [
    "plt.scatter(producao_cp5['InvestimentoMedioPCurso'], producao_cp5['ProducaoMediaPorCurso'], edgecolor='k', color=\"red\", alpha=0.6, s=80, label='Capes 5')\n",
    "plt.scatter(producao_cp7['InvestimentoMedioPCurso'], producao_cp7['ProducaoMediaPorCurso'], edgecolor='k', alpha=0.6, s=80, label=\"Capes 7\")\n",
    "plt.legend()\n",
    "\n",
    "plt.title('Produção média por investimento médio de programas')\n",
    "plt.xlabel('Investimento Medio')\n",
    "plt.ylabel('Produção Média')\n",
    "\n"
   ]
  },
  {
   "cell_type": "code",
   "execution_count": 10,
   "metadata": {},
   "outputs": [],
   "source": [
    "#sns.pairplot(producao_cp7, diag_kws={'edgecolor':'k'}, plot_kws={'alpha':0.5, 'edgecolor':'k'})"
   ]
  },
  {
   "cell_type": "markdown",
   "metadata": {},
   "source": [
    "## Regressão Linear"
   ]
  },
  {
   "cell_type": "code",
   "execution_count": 11,
   "metadata": {},
   "outputs": [
    {
     "name": "stdout",
     "output_type": "stream",
     "text": [
      "(8, 1)\n",
      "(8, 1)\n",
      "(2, 1)\n",
      "(2, 1)\n"
     ]
    },
    {
     "data": {
      "text/plain": [
       "LinearRegression(copy_X=True, fit_intercept=True, n_jobs=None, normalize=False)"
      ]
     },
     "execution_count": 11,
     "metadata": {},
     "output_type": "execute_result"
    }
   ],
   "source": [
    "# Fazendo a regressao\n",
    "X = producao_cp5[['InvestimentoMedioPCurso']]\n",
    "#display(X.shape)\n",
    "y = producao_cp5[['ProducaoMediaPorCurso']]\n",
    "#display(y)\n",
    "\n",
    "X_train, X_test, y_train, y_test = train_test_split(X, y, test_size=0.2, random_state=321)\n",
    "\n",
    "print (X_train.shape)\n",
    "print(y_train.shape)\n",
    "print (X_test.shape)\n",
    "print(y_test.shape)\n",
    "\n",
    "lin_regr = linear_model.LinearRegression()\n",
    "lin_regr.fit(X_train, y_train)"
   ]
  },
  {
   "cell_type": "code",
   "execution_count": 12,
   "metadata": {
    "scrolled": true
   },
   "outputs": [
    {
     "name": "stdout",
     "output_type": "stream",
     "text": [
      "Coefficient: 0.00\n",
      "Intercept: 212.17\n",
      "Mean squared error: 255.13\n",
      "R2: 0.01\n"
     ]
    }
   ],
   "source": [
    "# Previsao\n",
    "y_pred = lin_regr.predict(X_test)\n",
    "\n",
    "# Metricas\n",
    "mse = mean_squared_error(y_test, y_pred)\n",
    "r2 = r2_score(y_test, y_pred)\n",
    "print('Coefficient: {0:.2f}'.format(lin_regr.coef_[0][0]))\n",
    "print('Intercept: {0:.2f}'.format(lin_regr.intercept_[0]))\n",
    "print('Mean squared error: {0:.2f}'.format(mse) )\n",
    "print('R2: {0:.2f}'.format(r2))"
   ]
  },
  {
   "cell_type": "markdown",
   "metadata": {},
   "source": [
    "### Capes 5"
   ]
  },
  {
   "cell_type": "code",
   "execution_count": 13,
   "metadata": {
    "scrolled": true
   },
   "outputs": [
    {
     "data": {
      "image/png": "[encoded data removed]",
      "text/plain": [
       "<Figure size 432x288 with 1 Axes>"
      ]
     },
     "metadata": {},
     "output_type": "display_data"
    }
   ],
   "source": [
    "sns.regplot(x='InvestimentoMedioPCurso', y='ProducaoMediaPorCurso', data=producao_cp5)\n",
    "plt.title('Regressão linear, Investimento Medio x Producao Media Capes 5')\n",
    "plt.show()"
   ]
  },
  {
   "cell_type": "markdown",
   "metadata": {},
   "source": [
    "### É possível ver que o o investimento médio e a produção média não são tão bem explicados por um modelo linear. Vamos analisar então as dissertações"
   ]
  },
  {
   "cell_type": "code",
   "execution_count": 14,
   "metadata": {},
   "outputs": [
    {
     "name": "stdout",
     "output_type": "stream",
     "text": [
      "Coefficient: 0.00\n",
      "Intercept: 254.75\n",
      "Mean squared error: 297.77\n",
      "R2: 0.08\n"
     ]
    }
   ],
   "source": [
    "# Fazendo a regressao\n",
    "X = producao_cp7[['InvestimentoMedioPCurso']]\n",
    "#display(X.shape)\n",
    "y = producao_cp7[['ProducaoMediaPorCurso']]\n",
    "#display(y)\n",
    "\n",
    "X_train, X_test, y_train, y_test = train_test_split(X, y, test_size=0.2, random_state=321)\n",
    "\n",
    "lin_regr = linear_model.LinearRegression()\n",
    "lin_regr.fit(X_train, y_train)\n",
    "\n",
    "# Previsao\n",
    "y_pred = lin_regr.predict(X_test)\n",
    "\n",
    "# Metricas\n",
    "mse = mean_squared_error(y_test, y_pred)\n",
    "r2 = r2_score(y_test, y_pred)\n",
    "print('Coefficient: {0:.2f}'.format(lin_regr.coef_[0][0]))\n",
    "print('Intercept: {0:.2f}'.format(lin_regr.intercept_[0]))\n",
    "print('Mean squared error: {0:.2f}'.format(mse) )\n",
    "print('R2: {0:.2f}'.format(r2))"
   ]
  },
  {
   "cell_type": "code",
   "execution_count": 15,
   "metadata": {
    "scrolled": true
   },
   "outputs": [
    {
     "data": {
      "image/png": "[encoded data removed]",
      "text/plain": [
       "<Figure size 432x288 with 1 Axes>"
      ]
     },
     "metadata": {},
     "output_type": "display_data"
    }
   ],
   "source": [
    "sns.regplot(x='InvestimentoMedioPCurso', y='ProducaoMediaPorCurso', data=producao_cp7)\n",
    "plt.title('Regressão linear, InvestimentoMedioPCurso x ProducaoMediaPorCurso')\n",
    "plt.show()"
   ]
  },
  {
   "cell_type": "markdown",
   "metadata": {},
   "source": [
    "### A regressão consegue explicar melhor o investimento as dissertações feitas por mestrandos"
   ]
  },
  {
   "cell_type": "code",
   "execution_count": 16,
   "metadata": {
    "scrolled": true
   },
   "outputs": [
    {
     "name": "stdout",
     "output_type": "stream",
     "text": [
      "Coefficient: 0.00\n",
      "Intercept: 8.35\n",
      "Mean squared error: 106.07\n",
      "R2: 0.44\n"
     ]
    },
    {
     "data": {
      "image/png": "[encoded data removed]",
      "text/plain": [
       "<Figure size 432x288 with 1 Axes>"
      ]
     },
     "metadata": {},
     "output_type": "display_data"
    }
   ],
   "source": [
    "#\"Dissertacao\", \"ProducoesBibliograficas\", \"ProducoesTecnicas\", \"ProducoesArtisticas\"\n",
    "# Fazendo a regressao\n",
    "X = cursos_mestrado[['ValorAnualBolsaMestrado']]\n",
    "y = cursos_mestrado[[\"Dissertacao\"]]\n",
    "\n",
    "X_train, X_test, y_train, y_test = train_test_split(X, y, test_size=0.2, random_state=321)\n",
    "\n",
    "lin_regr = linear_model.LinearRegression()\n",
    "lin_regr.fit(X_train, y_train)\n",
    "\n",
    "y_pred = lin_regr.predict(X_test)\n",
    "\n",
    "print(f'Coefficient: {lin_regr.coef_[0][0]:.2f}')\n",
    "print(f'Intercept: {lin_regr.intercept_[0]:.2f}')\n",
    "print(f'Mean squared error: {mean_squared_error(y_test, y_pred):.2f}' )\n",
    "print(f'R2: {r2_score(y_test, y_pred):.2f}')\n",
    "sns.regplot(x='ValorAnualBolsaMestrado', y='Dissertacao', data=cursos_mestrado)\n",
    "plt.title('Regressão linear, ValorAnualBolsaMestrado x Dissertacao')\n",
    "plt.show()"
   ]
  },
  {
   "cell_type": "markdown",
   "metadata": {},
   "source": [
    "### As produções bibliográficas não são bem explicadas com uma regressão linear, visto o R2 baixo"
   ]
  },
  {
   "cell_type": "code",
   "execution_count": 17,
   "metadata": {},
   "outputs": [
    {
     "name": "stdout",
     "output_type": "stream",
     "text": [
      "Coefficient: 0.00\n",
      "Intercept: 96.49\n",
      "Mean squared error: 10998.67\n",
      "R2: 0.12\n"
     ]
    },
    {
     "data": {
      "image/png": "[encoded data removed]",
      "text/plain": [
       "<Figure size 432x288 with 1 Axes>"
      ]
     },
     "metadata": {},
     "output_type": "display_data"
    }
   ],
   "source": [
    "# Fazendo a regressao\n",
    "X = cursos_mestrado[['ValorAnualBolsaMestrado']]\n",
    "#display(X.shape)\n",
    "y = cursos_mestrado[[\"ProducoesBibliograficas\"]]\n",
    "#display(y)\n",
    "\n",
    "X_train, X_test, y_train, y_test = train_test_split(X, y, test_size=0.2, random_state=321)\n",
    "\n",
    "lin_regr = linear_model.LinearRegression()\n",
    "lin_regr.fit(X_train, y_train)\n",
    "\n",
    "y_pred = lin_regr.predict(X_test)\n",
    "\n",
    "print(f'Coefficient: {lin_regr.coef_[0][0]:.2f}')\n",
    "print(f'Intercept: {lin_regr.intercept_[0]:.2f}')\n",
    "print(f'Mean squared error: {mean_squared_error(y_test, y_pred):.2f}' )\n",
    "print(f'R2: {r2_score(y_test, y_pred):.2f}')\n",
    "sns.regplot(x='ValorAnualBolsaMestrado', y='ProducoesBibliograficas', data=cursos_mestrado)\n",
    "plt.title('Regressão linear, ValorAnualBolsaMestrado x Dissertacao')\n",
    "plt.show()"
   ]
  },
  {
   "cell_type": "markdown",
   "metadata": {},
   "source": [
    "### Prever as produções tecnicas com o investimento através de uma regressão linear se mostra pior que do que prever utilizando a média "
   ]
  },
  {
   "cell_type": "code",
   "execution_count": 18,
   "metadata": {
    "scrolled": true
   },
   "outputs": [
    {
     "name": "stdout",
     "output_type": "stream",
     "text": [
      "Coefficient: 0.00\n",
      "Intercept: 20.30\n",
      "Mean squared error: 32308.31\n",
      "R2: -0.01\n"
     ]
    },
    {
     "data": {
      "image/png": "[encoded data removed]",
      "text/plain": [
       "<Figure size 432x288 with 1 Axes>"
      ]
     },
     "metadata": {},
     "output_type": "display_data"
    }
   ],
   "source": [
    "# Fazendo a regressao\n",
    "X = cursos_mestrado[['ValorAnualBolsaMestrado']]\n",
    "#display(X.shape)\n",
    "y = cursos_mestrado[[\"ProducoesTecnicas\"]]\n",
    "#display(y)\n",
    "\n",
    "X_train, X_test, y_train, y_test = train_test_split(X, y, test_size=0.2, random_state=321)\n",
    "\n",
    "lin_regr = linear_model.LinearRegression()\n",
    "lin_regr.fit(X_train, y_train)\n",
    "\n",
    "y_pred = lin_regr.predict(X_test)\n",
    "\n",
    "print(f'Coefficient: {lin_regr.coef_[0][0]:.2f}')\n",
    "print(f'Intercept: {lin_regr.intercept_[0]:.2f}')\n",
    "print(f'Mean squared error: {mean_squared_error(y_test, y_pred):.2f}' )\n",
    "print(f'R2: {r2_score(y_test, y_pred):.2f}')\n",
    "sns.regplot(x='ValorAnualBolsaMestrado', y='ProducoesTecnicas', data=cursos_mestrado)\n",
    "plt.title('Regressão linear, ValorAnualBolsaMestrado x Dissertacao')\n",
    "plt.show()"
   ]
  },
  {
   "cell_type": "markdown",
   "metadata": {},
   "source": [
    "### Semelhantemente o investimento nas produções artísticas não são bem previstas utilizando um modelo linear"
   ]
  },
  {
   "cell_type": "code",
   "execution_count": 19,
   "metadata": {},
   "outputs": [
    {
     "name": "stdout",
     "output_type": "stream",
     "text": [
      "Coefficient: 0.00\n",
      "Intercept: -0.61\n",
      "Mean squared error: 883.52\n",
      "R2: 0.01\n"
     ]
    },
    {
     "data": {
      "image/png": "[encoded data removed]",
      "text/plain": [
       "<Figure size 432x288 with 1 Axes>"
      ]
     },
     "metadata": {},
     "output_type": "display_data"
    }
   ],
   "source": [
    "#\"Dissertacao\", \"ProducoesBibliograficas\", \"ProducoesTecnicas\", \"ProducoesArtisticas\"\n",
    "# Fazendo a regressao\n",
    "X = cursos_mestrado[['ValorAnualBolsaMestrado']]\n",
    "#display(X.shape)\n",
    "y = cursos_mestrado[[\"ProducoesArtisticas\"]]\n",
    "#display(y)\n",
    "\n",
    "X_train, X_test, y_train, y_test = train_test_split(X, y, test_size=0.2, random_state=321)\n",
    "\n",
    "lin_regr = linear_model.LinearRegression()\n",
    "lin_regr.fit(X_train, y_train)\n",
    "\n",
    "y_pred = lin_regr.predict(X_test)\n",
    "\n",
    "print(f'Coefficient: {lin_regr.coef_[0][0]:.2f}')\n",
    "print(f'Intercept: {lin_regr.intercept_[0]:.2f}')\n",
    "print(f'Mean squared error: {mean_squared_error(y_test, y_pred):.2f}' )\n",
    "print(f'R2: {r2_score(y_test, y_pred):.2f}')\n",
    "sns.regplot(x='ValorAnualBolsaMestrado', y='ProducoesArtisticas', data=cursos_mestrado)\n",
    "plt.title('Regressão linear, ValorAnualBolsaMestrado x Dissertacao')\n",
    "plt.show()"
   ]
  },
  {
   "cell_type": "markdown",
   "metadata": {},
   "source": [
    "### Já as produções bibliográficas são previstas um pouco melhor que a média\n"
   ]
  },
  {
   "cell_type": "code",
   "execution_count": 20,
   "metadata": {
    "scrolled": true
   },
   "outputs": [
    {
     "name": "stdout",
     "output_type": "stream",
     "text": [
      "Coefficient: 0.00\n",
      "Intercept: 122.29\n",
      "Mean squared error: 20783.24\n",
      "R2: 0.28\n"
     ]
    },
    {
     "data": {
      "image/png": "[encoded data removed]",
      "text/plain": [
       "<Figure size 432x288 with 1 Axes>"
      ]
     },
     "metadata": {},
     "output_type": "display_data"
    }
   ],
   "source": [
    "#\"Dissertacao\", \"ProducoesBibliograficas\", \"ProducoesTecnicas\", \"ProducoesArtisticas\"\n",
    "# Fazendo a regressao\n",
    "X = mestrado_capes_7[['ValorAnualBolsaMestrado']]\n",
    "#display(X.shape)\n",
    "y = mestrado_capes_7[[\"ProducoesBibliograficas\"]]\n",
    "#display(y)\n",
    "\n",
    "X_train, X_test, y_train, y_test = train_test_split(X, y, test_size=0.2, random_state=321)\n",
    "\n",
    "lin_regr = linear_model.LinearRegression()\n",
    "lin_regr.fit(X_train, y_train)\n",
    "\n",
    "y_pred = lin_regr.predict(X_test)\n",
    "\n",
    "print(f'Coefficient: {lin_regr.coef_[0][0]:.2f}')\n",
    "print(f'Intercept: {lin_regr.intercept_[0]:.2f}')\n",
    "print(f'Mean squared error: {mean_squared_error(y_test, y_pred):.2f}' )\n",
    "print(f'R2: {r2_score(y_test, y_pred):.2f}')\n",
    "sns.regplot(x='ValorAnualBolsaMestrado', y='ProducoesBibliograficas', data=mestrado_capes_7)\n",
    "plt.title('Regressão linear, ValorAnualBolsaMestrado x ProducoesBibliograficas')\n",
    "plt.show()"
   ]
  },
  {
   "cell_type": "markdown",
   "metadata": {},
   "source": [
    "### Cursos capes 7 tem uma relação mais forte entre investimento e as dissertações"
   ]
  },
  {
   "cell_type": "code",
   "execution_count": 21,
   "metadata": {
    "scrolled": true
   },
   "outputs": [
    {
     "name": "stdout",
     "output_type": "stream",
     "text": [
      "Coefficient: 0.00\n",
      "Intercept: 9.06\n",
      "Mean squared error: 64.45\n",
      "R2: 0.62\n"
     ]
    },
    {
     "data": {
      "image/png": "[encoded data removed]",
      "text/plain": [
       "<Figure size 432x288 with 1 Axes>"
      ]
     },
     "metadata": {},
     "output_type": "display_data"
    }
   ],
   "source": [
    "#\"Dissertacao\", \"ProducoesBibliograficas\", \"ProducoesTecnicas\", \"ProducoesArtisticas\"\n",
    "# Fazendo a regressao\n",
    "X = mestrado_capes_7[['ValorAnualBolsaMestrado']]\n",
    "#display(X.shape)\n",
    "y = mestrado_capes_7[[\"Dissertacao\"]]\n",
    "#display(y)\n",
    "\n",
    "X_train, X_test, y_train, y_test = train_test_split(X, y, test_size=0.2, random_state=321)\n",
    "\n",
    "lin_regr = linear_model.LinearRegression()\n",
    "lin_regr.fit(X_train, y_train)\n",
    "\n",
    "y_pred = lin_regr.predict(X_test)\n",
    "\n",
    "print(f'Coefficient: {lin_regr.coef_[0][0]:.2f}')\n",
    "print(f'Intercept: {lin_regr.intercept_[0]:.2f}')\n",
    "print(f'Mean squared error: {mean_squared_error(y_test, y_pred):.2f}' )\n",
    "print(f'R2: {r2_score(y_test, y_pred):.2f}')\n",
    "sns.regplot(x='ValorAnualBolsaMestrado', y='Dissertacao', data=mestrado_capes_7)\n",
    "plt.title('Regressão linear, ValorAnualBolsaMestrado x Dissertacao')\n",
    "plt.show()"
   ]
  },
  {
   "cell_type": "markdown",
   "metadata": {},
   "source": [
    "## Capes 5, investimento e dissertação"
   ]
  },
  {
   "cell_type": "markdown",
   "metadata": {},
   "source": [
    "### Cursos capes 5 tem uma relação mais fraca entre investimento e as dissertações"
   ]
  },
  {
   "cell_type": "code",
   "execution_count": 22,
   "metadata": {},
   "outputs": [
    {
     "name": "stdout",
     "output_type": "stream",
     "text": [
      "Coefficient: 0.00\n",
      "Intercept: 8.14\n",
      "Mean squared error: 79.53\n",
      "R2: 0.28\n"
     ]
    },
    {
     "data": {
      "image/png": "[encoded data removed]",
      "text/plain": [
       "<Figure size 432x288 with 1 Axes>"
      ]
     },
     "metadata": {},
     "output_type": "display_data"
    }
   ],
   "source": [
    "X = mestrado_capes_5[['ValorAnualBolsaMestrado']]\n",
    "y = mestrado_capes_5[[\"Dissertacao\"]]\n",
    "\n",
    "X_train, X_test, y_train, y_test = train_test_split(X, y, test_size=0.2, random_state=321)\n",
    "\n",
    "lin_regr = linear_model.LinearRegression()\n",
    "lin_regr.fit(X_train, y_train)\n",
    "\n",
    "y_pred = lin_regr.predict(X_test)\n",
    "\n",
    "print(f'Coefficient: {lin_regr.coef_[0][0]:.2f}')\n",
    "print(f'Intercept: {lin_regr.intercept_[0]:.2f}')\n",
    "print(f'Mean squared error: {mean_squared_error(y_test, y_pred):.2f}' )\n",
    "print(f'R2: {r2_score(y_test, y_pred):.2f}')\n",
    "sns.regplot(x='ValorAnualBolsaMestrado', y='Dissertacao', data=cursos_mestrado)\n",
    "plt.title('Regressão linear, ValorAnualBolsaMestrado x Dissertacao')\n",
    "plt.show()"
   ]
  },
  {
   "cell_type": "markdown",
   "metadata": {},
   "source": [
    "## Regressão para os cursos de doutorado"
   ]
  },
  {
   "cell_type": "markdown",
   "metadata": {},
   "source": [
    "#### As regressões para o doutorado vão ser feitas posteriormente"
   ]
  },
  {
   "cell_type": "markdown",
   "metadata": {},
   "source": [
    "# Intervalo de Confiança"
   ]
  },
  {
   "cell_type": "markdown",
   "metadata": {},
   "source": [
    "## Testes de Hipótese\n",
    "### Teste 1\n",
    "#### Hipótese nula:\n",
    "Na população, a distribuição das produções é a mesma para programas com investimento maior que a média e menores que a média. A diferença na amostra é devido a chance.\n",
    "#### Hipótese alternativa: \n",
    "Na população, a distribuição de produção para os programas com maior investimento que a média é maior, na média, do que dos cursos com menos investimento"
   ]
  },
  {
   "cell_type": "code",
   "execution_count": 23,
   "metadata": {},
   "outputs": [],
   "source": [
    "# Vamos separar as produções por intervalo de investimento\n",
    "cursos_mestrado['ProducaoTotal'] = cursos_mestrado['ProducoesTecnicas'] + cursos_mestrado['ProducoesBibliograficas'] + cursos_mestrado['ProducoesArtisticas']\n",
    "investimento_mestrado = cursos_mestrado[['ValorAnualBolsaMestrado', 'ProducaoTotal']]"
   ]
  },
  {
   "cell_type": "code",
   "execution_count": 24,
   "metadata": {},
   "outputs": [],
   "source": [
    "media = investimento_mestrado['ValorAnualBolsaMestrado'].mean()\n",
    "# Separando os cursos em os que ganham mais e os que ganham menos\n",
    "cursos_menos_valor = investimento_mestrado.query(\"ValorAnualBolsaMestrado < {}\".format(media))\n",
    "cursos_mais_valor = investimento_mestrado.query(\"ValorAnualBolsaMestrado > {}\".format(media))"
   ]
  },
  {
   "cell_type": "code",
   "execution_count": 25,
   "metadata": {},
   "outputs": [
    {
     "data": {
      "text/plain": [
       "ValorAnualBolsaMestrado    401507.865169\n",
       "ProducaoTotal                 408.797753\n",
       "dtype: float64"
      ]
     },
     "execution_count": 25,
     "metadata": {},
     "output_type": "execute_result"
    }
   ],
   "source": [
    "cursos_mais_valor.mean()"
   ]
  },
  {
   "cell_type": "code",
   "execution_count": 26,
   "metadata": {},
   "outputs": [
    {
     "data": {
      "text/plain": [
       "ValorAnualBolsaMestrado    146216.452442\n",
       "ProducaoTotal                 221.347044\n",
       "dtype: float64"
      ]
     },
     "execution_count": 26,
     "metadata": {},
     "output_type": "execute_result"
    }
   ],
   "source": [
    "cursos_menos_valor.mean()"
   ]
  },
  {
   "cell_type": "code",
   "execution_count": 33,
   "metadata": {},
   "outputs": [
    {
     "data": {
      "text/plain": [
       "<matplotlib.legend.Legend at 0x7f6e9a4fe320>"
      ]
     },
     "execution_count": 33,
     "metadata": {},
     "output_type": "execute_result"
    },
    {
     "data": {
      "image/png": "[encoded data removed]",
      "text/plain": [
       "<Figure size 432x288 with 1 Axes>"
      ]
     },
     "metadata": {},
     "output_type": "display_data"
    }
   ],
   "source": [
    "def bootstrap_mean(df, column, n=5000, size=None):\n",
    "    '''\n",
    "    Faz um boostrap da média. Gera amostras.\n",
    "    \n",
    "    Parâmetros\n",
    "    ----------\n",
    "    df: o dataframe\n",
    "    column: a coluna que queremos focar\n",
    "    n: número de amostras para o bootstrap\n",
    "    size: tamanho de cada amostra, por padrão vira o tamanho do df.\n",
    "    '''\n",
    "    if size is None:\n",
    "        size = len(df)\n",
    "    values = np.zeros(n)\n",
    "    for i in range(n):\n",
    "        sample = df[column].sample(size, replace=True)\n",
    "        values[i] = sample.mean()\n",
    "    return values\n",
    "\n",
    "def ic_bootstrap(df, column, n=5000, size=None):\n",
    "    '''\n",
    "    Faz um IC boostrap da média. Gera um Intervalo.\n",
    "    \n",
    "    Parâmetros\n",
    "    ----------\n",
    "    df: o dataframe\n",
    "    column: a coluna que queremos focar\n",
    "    n: número de amostras para o bootstrap\n",
    "    size: tamanho de cada amostra, por padrão vira o tamanho do df.\n",
    "    '''\n",
    "        \n",
    "    values = bootstrap_mean(df, column, n, size)\n",
    "    return (np.percentile(values, 2.5), np.percentile(values, 97.5))\n",
    "\n",
    "def despine(ax=None):\n",
    "    if ax is None:\n",
    "        ax = plt.gca()\n",
    "    # Hide the right and top spines\n",
    "    ax.spines['right'].set_visible(False)\n",
    "    ax.spines['top'].set_visible(False)\n",
    "\n",
    "    # Only show ticks on the left and bottom spines\n",
    "    ax.yaxis.set_ticks_position('left')\n",
    "    ax.xaxis.set_ticks_position('bottom')\n",
    "\n",
    "\n",
    "plt.hist(cursos_mais_valor['ProducaoTotal'], alpha=0.3, edgecolor='k', label='Mais Investimento')\n",
    "plt.hist(cursos_menos_valor['ProducaoTotal'], alpha=0.3, edgecolor='k', label='Menos Investimento')\n",
    "despine()\n",
    "\n",
    "plt.xlabel('Produção Total')\n",
    "plt.ylabel('Freq')\n",
    "plt.legend()"
   ]
  },
  {
   "cell_type": "code",
   "execution_count": 34,
   "metadata": {},
   "outputs": [
    {
     "data": {
      "text/plain": [
       "(206.00687660668382, 237.31767352185088)"
      ]
     },
     "execution_count": 34,
     "metadata": {},
     "output_type": "execute_result"
    }
   ],
   "source": [
    "ic_bootstrap(cursos_menos_valor, 'ProducaoTotal')\n"
   ]
  },
  {
   "cell_type": "code",
   "execution_count": 35,
   "metadata": {},
   "outputs": [
    {
     "data": {
      "text/plain": [
       "(370.2161048689138, 449.03305243445686)"
      ]
     },
     "execution_count": 35,
     "metadata": {},
     "output_type": "execute_result"
    }
   ],
   "source": [
    "ic_bootstrap(cursos_mais_valor, 'ProducaoTotal')\n"
   ]
  },
  {
   "cell_type": "code",
   "execution_count": 36,
   "metadata": {},
   "outputs": [
    {
     "data": {
      "text/html": [
       "<div>\n",
       "<style scoped>\n",
       "    .dataframe tbody tr th:only-of-type {\n",
       "        vertical-align: middle;\n",
       "    }\n",
       "\n",
       "    .dataframe tbody tr th {\n",
       "        vertical-align: top;\n",
       "    }\n",
       "\n",
       "    .dataframe thead th {\n",
       "        text-align: right;\n",
       "    }\n",
       "</style>\n",
       "<table border=\"1\" class=\"dataframe\">\n",
       "  <thead>\n",
       "    <tr style=\"text-align: right;\">\n",
       "      <th></th>\n",
       "      <th>cursos_mais_valor_boot</th>\n",
       "      <th>cursos_menos_valor_boot</th>\n",
       "    </tr>\n",
       "  </thead>\n",
       "  <tbody>\n",
       "    <tr>\n",
       "      <th>0</th>\n",
       "      <td>365.389513</td>\n",
       "      <td>215.323907</td>\n",
       "    </tr>\n",
       "    <tr>\n",
       "      <th>1</th>\n",
       "      <td>410.580524</td>\n",
       "      <td>218.084833</td>\n",
       "    </tr>\n",
       "    <tr>\n",
       "      <th>2</th>\n",
       "      <td>417.749064</td>\n",
       "      <td>228.925450</td>\n",
       "    </tr>\n",
       "    <tr>\n",
       "      <th>3</th>\n",
       "      <td>373.292135</td>\n",
       "      <td>212.172237</td>\n",
       "    </tr>\n",
       "    <tr>\n",
       "      <th>4</th>\n",
       "      <td>418.666667</td>\n",
       "      <td>219.979434</td>\n",
       "    </tr>\n",
       "    <tr>\n",
       "      <th>...</th>\n",
       "      <td>...</td>\n",
       "      <td>...</td>\n",
       "    </tr>\n",
       "    <tr>\n",
       "      <th>4995</th>\n",
       "      <td>426.404494</td>\n",
       "      <td>223.735219</td>\n",
       "    </tr>\n",
       "    <tr>\n",
       "      <th>4996</th>\n",
       "      <td>397.692884</td>\n",
       "      <td>210.814910</td>\n",
       "    </tr>\n",
       "    <tr>\n",
       "      <th>4997</th>\n",
       "      <td>429.269663</td>\n",
       "      <td>221.105398</td>\n",
       "    </tr>\n",
       "    <tr>\n",
       "      <th>4998</th>\n",
       "      <td>403.805243</td>\n",
       "      <td>215.131105</td>\n",
       "    </tr>\n",
       "    <tr>\n",
       "      <th>4999</th>\n",
       "      <td>414.535581</td>\n",
       "      <td>218.092545</td>\n",
       "    </tr>\n",
       "  </tbody>\n",
       "</table>\n",
       "<p>5000 rows × 2 columns</p>\n",
       "</div>"
      ],
      "text/plain": [
       "      cursos_mais_valor_boot  cursos_menos_valor_boot\n",
       "0                 365.389513               215.323907\n",
       "1                 410.580524               218.084833\n",
       "2                 417.749064               228.925450\n",
       "3                 373.292135               212.172237\n",
       "4                 418.666667               219.979434\n",
       "...                      ...                      ...\n",
       "4995              426.404494               223.735219\n",
       "4996              397.692884               210.814910\n",
       "4997              429.269663               221.105398\n",
       "4998              403.805243               215.131105\n",
       "4999              414.535581               218.092545\n",
       "\n",
       "[5000 rows x 2 columns]"
      ]
     },
     "metadata": {},
     "output_type": "display_data"
    },
    {
     "data": {
      "image/png": "[encoded data removed]",
      "text/plain": [
       "<Figure size 432x288 with 1 Axes>"
      ]
     },
     "metadata": {},
     "output_type": "display_data"
    }
   ],
   "source": [
    "samples_cursos_mais_valor = bootstrap_mean(cursos_mais_valor, 'ProducaoTotal')\n",
    "samples_cursos_menos_valor = bootstrap_mean(cursos_menos_valor, 'ProducaoTotal')\n",
    "\n",
    "to_plot = pd.DataFrame()\n",
    "to_plot['cursos_mais_valor_boot'] = samples_cursos_mais_valor\n",
    "to_plot['cursos_menos_valor_boot'] = samples_cursos_menos_valor\n",
    "display(to_plot)\n",
    "to_plot.boxplot(grid=False, sym='', whis=[5, 95], showmeans=True)\n",
    "plt.ylim(200, 500)\n",
    "plt.ylabel('Media')\n",
    "plt.title(\"Producao\")\n",
    "despine()"
   ]
  },
  {
   "cell_type": "code",
   "execution_count": 37,
   "metadata": {},
   "outputs": [
    {
     "name": "stdout",
     "output_type": "stream",
     "text": [
      "187.45070910718928\n"
     ]
    },
    {
     "data": {
      "text/plain": [
       "[<matplotlib.lines.Line2D at 0x7f6e9f17f978>]"
      ]
     },
     "execution_count": 37,
     "metadata": {},
     "output_type": "execute_result"
    },
    {
     "data": {
      "image/png": "[encoded data removed]",
      "text/plain": [
       "<Figure size 432x288 with 1 Axes>"
      ]
     },
     "metadata": {},
     "output_type": "display_data"
    }
   ],
   "source": [
    "def resample(sample):\n",
    "    return np.random.choice(sample, size=len(sample))\n",
    "\n",
    "def bootstrap(sample, stat, replicates):\n",
    "    return np.array([\n",
    "        stat(resample(sample)) for _ in range(replicates)\n",
    "    ])\n",
    "\n",
    "observed_difference = np.mean(cursos_mais_valor['ProducaoTotal']) - np.mean(cursos_menos_valor['ProducaoTotal'])\n",
    "print(observed_difference)\n",
    "\n",
    "## Bootstrap da media da producao total\n",
    "cursos_menos_valor_media = bootstrap(cursos_menos_valor['ProducaoTotal'], np.mean, 10000)\n",
    "cursos_mais_valor_media = bootstrap(cursos_mais_valor['ProducaoTotal'], np.mean, 10000)\n",
    "\n",
    "mean_differences = cursos_mais_valor_media - cursos_menos_valor_media\n",
    "plt.hist(mean_differences)\n",
    "plt.plot(cursos_menos_valor['ProducaoTotal'].mean(), [1], 'ro', ms=15)\n",
    "plt.plot(cursos_mais_valor['ProducaoTotal'].mean(), [0], 'ro', ms=15)"
   ]
  },
  {
   "cell_type": "code",
   "execution_count": 38,
   "metadata": {},
   "outputs": [
    {
     "data": {
      "text/plain": [
       "(146.16942101614626, 230.5742273475636)"
      ]
     },
     "execution_count": 38,
     "metadata": {},
     "output_type": "execute_result"
    }
   ],
   "source": [
    "(np.percentile(mean_differences, 2.5), \n",
    " np.percentile(mean_differences, 97.5))"
   ]
  },
  {
   "cell_type": "markdown",
   "metadata": {},
   "source": [
    "A produção dos cursos com mais investimento não está no intervalo de confiança da média da produção total de 95%. Logo pode-se rejeitar a hipótese nula."
   ]
  },
  {
   "cell_type": "markdown",
   "metadata": {},
   "source": [
    "## Teste de hipótese 2\n",
    "\n",
    "### Teste 2\n",
    "#### Hipótese nula:\n",
    "Na população, a distribuição do investimento é a mesma para programas com notas capes altas (maiores ou iguais a 6) e para menores ou iguais a 5. A diferença na amostra é devido a chance.\n",
    "#### Hipótese alternativa: \n",
    "Na população, a distribuição do investimento para programas com notas capes altas (maiores ou iguais a 6) é maior, na média,  do que para cursos com notas menores ou iguais a 5."
   ]
  },
  {
   "cell_type": "code",
   "execution_count": 39,
   "metadata": {},
   "outputs": [],
   "source": [
    "# Separando os cursos em os que ganham mais e os que ganham menos\n",
    "cursos_nota_capes_baixa = cursos_mestrado.query(\"NotaCapesMestrado <= 5\")[['NotaCapesMestrado', 'ValorAnualBolsaMestrado']]\n",
    "cursos_nota_capes_alta = cursos_mestrado.query(\"NotaCapesMestrado >= 6\")[['NotaCapesMestrado', 'ValorAnualBolsaMestrado']]"
   ]
  },
  {
   "cell_type": "code",
   "execution_count": 40,
   "metadata": {},
   "outputs": [
    {
     "data": {
      "text/plain": [
       "<matplotlib.legend.Legend at 0x7f6e9f0f8978>"
      ]
     },
     "execution_count": 40,
     "metadata": {},
     "output_type": "execute_result"
    },
    {
     "data": {
      "image/png": "[encoded data removed]",
      "text/plain": [
       "<Figure size 432x288 with 1 Axes>"
      ]
     },
     "metadata": {},
     "output_type": "display_data"
    }
   ],
   "source": [
    "plt.hist(cursos_nota_capes_baixa['ValorAnualBolsaMestrado'], alpha=0.3, edgecolor='k', label='Notas Capes 3-4-5')\n",
    "plt.hist(cursos_nota_capes_alta['ValorAnualBolsaMestrado'], alpha=0.3, edgecolor='k', label='Notas Capes 6-7')\n",
    "despine()\n",
    "\n",
    "plt.xlabel('Valor Anual da Bolsa Mestrado')\n",
    "plt.ylabel('Freq')\n",
    "plt.legend()"
   ]
  },
  {
   "cell_type": "code",
   "execution_count": 41,
   "metadata": {},
   "outputs": [
    {
     "data": {
      "text/plain": [
       "(191667.85714285713, 218016.9642857143)"
      ]
     },
     "execution_count": 41,
     "metadata": {},
     "output_type": "execute_result"
    }
   ],
   "source": [
    "ic_bootstrap(cursos_nota_capes_baixa, 'ValorAnualBolsaMestrado')\n"
   ]
  },
  {
   "cell_type": "code",
   "execution_count": 42,
   "metadata": {},
   "outputs": [
    {
     "data": {
      "text/plain": [
       "(294145.0568181818, 341706.98863636365)"
      ]
     },
     "execution_count": 42,
     "metadata": {},
     "output_type": "execute_result"
    }
   ],
   "source": [
    "ic_bootstrap(cursos_nota_capes_alta, 'ValorAnualBolsaMestrado')\n"
   ]
  },
  {
   "cell_type": "code",
   "execution_count": 43,
   "metadata": {},
   "outputs": [
    {
     "data": {
      "text/html": [
       "<div>\n",
       "<style scoped>\n",
       "    .dataframe tbody tr th:only-of-type {\n",
       "        vertical-align: middle;\n",
       "    }\n",
       "\n",
       "    .dataframe tbody tr th {\n",
       "        vertical-align: top;\n",
       "    }\n",
       "\n",
       "    .dataframe thead th {\n",
       "        text-align: right;\n",
       "    }\n",
       "</style>\n",
       "<table border=\"1\" class=\"dataframe\">\n",
       "  <thead>\n",
       "    <tr style=\"text-align: right;\">\n",
       "      <th></th>\n",
       "      <th>cursos_mais_valor_boot</th>\n",
       "      <th>cursos_menos_valor_boot</th>\n",
       "    </tr>\n",
       "  </thead>\n",
       "  <tbody>\n",
       "    <tr>\n",
       "      <th>0</th>\n",
       "      <td>332577.272727</td>\n",
       "      <td>201443.877551</td>\n",
       "    </tr>\n",
       "    <tr>\n",
       "      <th>1</th>\n",
       "      <td>309627.272727</td>\n",
       "      <td>210549.489796</td>\n",
       "    </tr>\n",
       "    <tr>\n",
       "      <th>2</th>\n",
       "      <td>312286.363636</td>\n",
       "      <td>201150.000000</td>\n",
       "    </tr>\n",
       "    <tr>\n",
       "      <th>3</th>\n",
       "      <td>350331.818182</td>\n",
       "      <td>192673.469388</td>\n",
       "    </tr>\n",
       "    <tr>\n",
       "      <th>4</th>\n",
       "      <td>305495.454545</td>\n",
       "      <td>209199.489796</td>\n",
       "    </tr>\n",
       "    <tr>\n",
       "      <th>...</th>\n",
       "      <td>...</td>\n",
       "      <td>...</td>\n",
       "    </tr>\n",
       "    <tr>\n",
       "      <th>4995</th>\n",
       "      <td>311052.272727</td>\n",
       "      <td>198964.285714</td>\n",
       "    </tr>\n",
       "    <tr>\n",
       "      <th>4996</th>\n",
       "      <td>312334.090909</td>\n",
       "      <td>204621.428571</td>\n",
       "    </tr>\n",
       "    <tr>\n",
       "      <th>4997</th>\n",
       "      <td>314025.000000</td>\n",
       "      <td>205659.183673</td>\n",
       "    </tr>\n",
       "    <tr>\n",
       "      <th>4998</th>\n",
       "      <td>311263.636364</td>\n",
       "      <td>197403.061224</td>\n",
       "    </tr>\n",
       "    <tr>\n",
       "      <th>4999</th>\n",
       "      <td>329686.363636</td>\n",
       "      <td>211164.795918</td>\n",
       "    </tr>\n",
       "  </tbody>\n",
       "</table>\n",
       "<p>5000 rows × 2 columns</p>\n",
       "</div>"
      ],
      "text/plain": [
       "      cursos_mais_valor_boot  cursos_menos_valor_boot\n",
       "0              332577.272727            201443.877551\n",
       "1              309627.272727            210549.489796\n",
       "2              312286.363636            201150.000000\n",
       "3              350331.818182            192673.469388\n",
       "4              305495.454545            209199.489796\n",
       "...                      ...                      ...\n",
       "4995           311052.272727            198964.285714\n",
       "4996           312334.090909            204621.428571\n",
       "4997           314025.000000            205659.183673\n",
       "4998           311263.636364            197403.061224\n",
       "4999           329686.363636            211164.795918\n",
       "\n",
       "[5000 rows x 2 columns]"
      ]
     },
     "metadata": {},
     "output_type": "display_data"
    },
    {
     "data": {
      "image/png": "[encoded data removed]",
      "text/plain": [
       "<Figure size 432x288 with 1 Axes>"
      ]
     },
     "metadata": {},
     "output_type": "display_data"
    }
   ],
   "source": [
    "samples_cursos_nota_cp_alta = bootstrap_mean(cursos_nota_capes_alta, 'ValorAnualBolsaMestrado')\n",
    "samples_cursos_nota_cp_baixa = bootstrap_mean(cursos_nota_capes_baixa, 'ValorAnualBolsaMestrado')\n",
    "\n",
    "to_plot = pd.DataFrame()\n",
    "to_plot['cursos_mais_valor_boot'] = samples_cursos_nota_cp_alta\n",
    "to_plot['cursos_menos_valor_boot'] = samples_cursos_nota_cp_baixa\n",
    "display(to_plot)\n",
    "to_plot.boxplot(grid=False, sym='', whis=[5, 95], showmeans=True)\n",
    "plt.ylim(100000, 400000)\n",
    "plt.ylabel('Media')\n",
    "plt.title(\"Producao\")\n",
    "despine()"
   ]
  },
  {
   "cell_type": "code",
   "execution_count": 44,
   "metadata": {},
   "outputs": [
    {
     "name": "stdout",
     "output_type": "stream",
     "text": [
      "112882.37476808904\n"
     ]
    },
    {
     "data": {
      "text/plain": [
       "[<matplotlib.lines.Line2D at 0x7f6e9c69a198>]"
      ]
     },
     "execution_count": 44,
     "metadata": {},
     "output_type": "execute_result"
    },
    {
     "data": {
      "image/png": "[encoded data removed]",
      "text/plain": [
       "<Figure size 432x288 with 1 Axes>"
      ]
     },
     "metadata": {},
     "output_type": "display_data"
    }
   ],
   "source": [
    "observed_difference = np.mean(cursos_nota_capes_alta['ValorAnualBolsaMestrado']) - np.mean(cursos_nota_capes_baixa['ValorAnualBolsaMestrado'])\n",
    "print(observed_difference)\n",
    "\n",
    "## Bootstrap da media da producao total\n",
    "cursos_nota_capes_baixa_media = bootstrap(cursos_nota_capes_baixa['ValorAnualBolsaMestrado'], np.mean, 10000)\n",
    "cursos_nota_capes_alta_media = bootstrap(cursos_nota_capes_alta['ValorAnualBolsaMestrado'], np.mean, 10000)\n",
    "\n",
    "mean_differences = cursos_nota_capes_alta_media - cursos_nota_capes_baixa_media\n",
    "plt.hist(mean_differences)\n",
    "plt.plot(cursos_nota_capes_baixa['ValorAnualBolsaMestrado'].mean(), [1], 'ro', ms=15)\n",
    "plt.plot(cursos_nota_capes_alta['ValorAnualBolsaMestrado'].mean(), [0], 'ro', ms=15)"
   ]
  },
  {
   "cell_type": "markdown",
   "metadata": {},
   "source": [
    "Com isso podemos rejeitar a hipótese nula de que na população, a distribuição do investimento é a mesma para programas com notas capes altas (maiores ou iguais a 6) e para menores ou iguais a 5. A diferença na amostra é devido a chance."
   ]
  },
  {
   "cell_type": "code",
   "execution_count": null,
   "metadata": {},
   "outputs": [],
   "source": []
  }
 ],
 "metadata": {
  "kernelspec": {
   "display_name": "Python 3",
   "language": "python",
   "name": "python3"
  },
  "language_info": {
   "codemirror_mode": {
    "name": "ipython",
    "version": 3
   },
   "file_extension": ".py",
   "mimetype": "text/x-python",
   "name": "python",
   "nbconvert_exporter": "python",
   "pygments_lexer": "ipython3",
   "version": "3.6.8"
  }
 },
 "nbformat": 4,
 "nbformat_minor": 2
}
